{
 "cells": [
  {
   "cell_type": "markdown",
   "metadata": {},
   "source": [
    "# Load libraries"
   ]
  },
  {
   "cell_type": "code",
   "execution_count": 226,
   "metadata": {},
   "outputs": [],
   "source": [
    "%matplotlib inline\n",
    "\n",
    "import os\n",
    "import math\n",
    "\n",
    "import configparser\n",
    "\n",
    "import numpy as np\n",
    "import pandas as pd\n",
    "import matplotlib.pylab as plt\n",
    "\n",
    "import sys\n",
    "sys.path.append('../..')\n",
    "\n",
    "from scripps.utils import read_datasets, norm1d, bayesian_linear_regression"
   ]
  },
  {
   "cell_type": "code",
   "execution_count": 227,
   "metadata": {},
   "outputs": [],
   "source": [
    "#np.random.seed(23) #Not working"
   ]
  },
  {
   "cell_type": "markdown",
   "metadata": {},
   "source": [
    "# Load all mark2cure citizen scientist annotations"
   ]
  },
  {
   "cell_type": "code",
   "execution_count": 228,
   "metadata": {},
   "outputs": [],
   "source": [
    "CF = read_datasets.get_configuration()\n",
    "\n",
    "def read_disease_annotations():\n",
    "    annotations = pd.DataFrame()\n",
    "    anno = read_datasets.load_dataset('m2c_citizen_disease', 'files1')\n",
    "    anno[3].replace(['I-Disease', 'O'], [1, 0], inplace=True)\n",
    "    annotations = pd.concat([annotations, anno[0].rename('Token')], axis=1)\n",
    "    annotations = pd.concat([annotations, anno[3].rename('Annotator1')], axis=1)\n",
    "    for i in range(2, 6):\n",
    "        anno = read_datasets.load_dataset('m2c_citizen_disease', 'files{}'.format(i))\n",
    "        anno[3].replace(['I-Disease', 'O'], [1, 0], inplace=True)\n",
    "        annotations = pd.concat([annotations, anno[3].rename('Annotator{}'.format(i))], axis=1)\n",
    "    return annotations\n",
    "\n",
    "def read_phenotype_annotations():\n",
    "    annotations = pd.DataFrame()\n",
    "    anno = read_datasets.load_dataset('m2c_citizen_phenotype', 'files1')\n",
    "    anno[3].replace(['I-Phenotype', 'O'], [1, 0], inplace=True)\n",
    "    annotations = pd.concat([annotations, anno[0].rename('Token')], axis=1)\n",
    "    annotations = pd.concat([annotations, anno[3].rename('Annotator1')], axis=1)\n",
    "    for i in range(2, 6):\n",
    "        anno = read_datasets.load_dataset('m2c_citizen_phenotype', 'files{}'.format(i))\n",
    "        anno[3].replace(['I-Phenotype', 'O'], [1, 0], inplace=True)\n",
    "        annotations = pd.concat([annotations, anno[3].rename('Annotator{}'.format(i))], axis=1)\n",
    "    return annotations"
   ]
  },
  {
   "cell_type": "code",
   "execution_count": 229,
   "metadata": {},
   "outputs": [],
   "source": [
    "disease_annotations = read_disease_annotations()\n",
    "phenotype_annotations = read_phenotype_annotations()"
   ]
  },
  {
   "cell_type": "markdown",
   "metadata": {},
   "source": [
    "# Initialize latent variables"
   ]
  },
  {
   "cell_type": "code",
   "execution_count": 230,
   "metadata": {},
   "outputs": [],
   "source": [
    "K = disease_annotations.shape[0]\n",
    "J = disease_annotations.shape[1] - 1\n",
    "\n",
    "latent = {}\n",
    "\n",
    "latent['theta'] = np.zeros(K)\n",
    "latent['d_alpha'] = np.zeros(J)\n",
    "latent['d_beta'] = np.zeros(J)\n",
    "latent['d_z'] = np.zeros((K, J))\n",
    "\n",
    "latent['theta'] = np.zeros(K)\n",
    "latent['p_alpha'] = np.zeros(J)\n",
    "latent['p_beta'] = np.zeros(J)\n",
    "latent['p_z'] = np.zeros((K, J))\n",
    "\n",
    "#Should these be separate for disease and phenotype?\n",
    "latent['b0'] = np.zeros(2)\n",
    "latent['B0_scale'] = 1\n",
    "latent['m0'] = np.zeros(K) #TODO: ask HS regarding changing certain values here.\n",
    "latent['C0_scale'] = 1\n",
    "\n",
    "latent['K'] = K\n",
    "latent['J'] = J"
   ]
  },
  {
   "cell_type": "markdown",
   "metadata": {},
   "source": [
    "# Define functions for resampling using Gibbs sampling"
   ]
  },
  {
   "cell_type": "code",
   "execution_count": 231,
   "metadata": {},
   "outputs": [],
   "source": [
    "def __get_alpha_beta_z(mode):\n",
    "    if mode == 'disease':\n",
    "        alpha = latent['d_alpha']\n",
    "        beta = latent['d_beta']\n",
    "        z = latent['d_z']\n",
    "    else:\n",
    "        alpha = latent['p_alpha']\n",
    "        beta = latent['p_beta']\n",
    "        z = latent['p_z']\n",
    "    return alpha, beta, z\n",
    "    "
   ]
  },
  {
   "cell_type": "code",
   "execution_count": 232,
   "metadata": {},
   "outputs": [],
   "source": [
    "def __resample_z(alpha, beta, z, annotations):\n",
    "    interval = [-100, 100] #Should this be changed?\n",
    "    for k in range(K):\n",
    "        for j in range(J):\n",
    "            mean = alpha[j] + beta[j]*latent['theta'][k]\n",
    "            std_dev = 1\n",
    "            if(annotations['Annotator{}'.format(j+1)][k] == 0):\n",
    "                z[k, j] = norm1d.truncnormal(mean, std_dev, interval[0], 0)\n",
    "            elif(annotations['Annotator{}'.format(j+1)][k] == 1):\n",
    "                z[k, j] = norm1d.truncnormal(mean, std_dev, 0, interval[1])\n",
    "    \n",
    "def resample_z(mode):\n",
    "    alpha, beta, z = __get_alpha_beta_z(mode)\n",
    "    if mode == 'disease':\n",
    "        annotations = disease_annotations\n",
    "    else:\n",
    "        annotations = phenotype_annotations\n",
    "    __resample_z(alpha, beta, z, annotations)"
   ]
  },
  {
   "cell_type": "code",
   "execution_count": 233,
   "metadata": {},
   "outputs": [],
   "source": [
    "def __resample_alpha_beta(alpha, beta, z):\n",
    "    for j in range(J):\n",
    "        Y = z[:, j]\n",
    "        X = np.vstack((np.ones(K), latent['theta'])).T\n",
    "        \n",
    "        WN, VN = bayesian_linear_regression.linreg_post(X, Y, latent['b0'], latent['B0_scale'], 1)\n",
    "        sample = np.random.multivariate_normal(WN, VN)\n",
    "        alpha[j] = sample[0]\n",
    "        beta[j] = sample[1]\n",
    "\n",
    "def resample_alpha_beta(mode):\n",
    "    alpha, beta, z = __get_alpha_beta_z(mode)\n",
    "    __resample_alpha_beta(alpha, beta, z)"
   ]
  },
  {
   "cell_type": "code",
   "execution_count": 234,
   "metadata": {},
   "outputs": [],
   "source": [
    "def resample_theta():\n",
    "    for k in range(K):\n",
    "        Y = latent['d_z'][k, :] - latent['d_alpha'] + latent['p_z'][k, :] - latent['p_alpha']\n",
    "        X = latent['d_beta'] + latent['p_beta']\n",
    "        X = np.reshape(X, (-1, 1))\n",
    "        WN, VN = bayesian_linear_regression.linreg_post(X, Y, latent['m0'][k], latent['C0_scale'], 1)\n",
    "        latent['theta'][k] = np.random.normal(WN, math.sqrt(VN))"
   ]
  },
  {
   "cell_type": "code",
   "execution_count": 235,
   "metadata": {},
   "outputs": [],
   "source": [
    "def save_latent_variables():\n",
    "    #TODO: save to csv.\n",
    "    pass\n",
    "\n",
    "\n",
    "def resample():\n",
    "    resample_z('disease')\n",
    "    resample_z('phenotype')\n",
    "    resample_theta()\n",
    "    resample_alpha_beta('disease')\n",
    "    resample_alpha_beta('phenotype')\n",
    "    \n",
    "    save_latent_variables()\n",
    "    \n",
    "def run_sampling(num_iter):\n",
    "    for it in xrange(1, num_iter+1):\n",
    "        resample()\n",
    "        if it%5 == 0:\n",
    "            print 'Iter {}/{} done.'.format(it, num_iter)\n"
   ]
  },
  {
   "cell_type": "code",
   "execution_count": 236,
   "metadata": {},
   "outputs": [
    {
     "name": "stdout",
     "output_type": "stream",
     "text": [
      "Iter 5/100 done.\n",
      "Iter 10/100 done.\n",
      "Iter 15/100 done.\n",
      "Iter 20/100 done.\n",
      "Iter 25/100 done.\n",
      "Iter 30/100 done.\n",
      "Iter 35/100 done.\n",
      "Iter 40/100 done.\n",
      "Iter 45/100 done.\n",
      "Iter 50/100 done.\n",
      "Iter 55/100 done.\n",
      "Iter 60/100 done.\n",
      "Iter 65/100 done.\n",
      "Iter 70/100 done.\n",
      "Iter 75/100 done.\n",
      "Iter 80/100 done.\n",
      "Iter 85/100 done.\n",
      "Iter 90/100 done.\n",
      "Iter 95/100 done.\n",
      "Iter 100/100 done.\n"
     ]
    }
   ],
   "source": [
    "run_sampling(100)"
   ]
  },
  {
   "cell_type": "code",
   "execution_count": 240,
   "metadata": {},
   "outputs": [
    {
     "data": {
      "text/plain": [
       "array([-0.565609  , -0.48282191,  2.71166435, -1.04356782,  0.91237965])"
      ]
     },
     "execution_count": 240,
     "metadata": {},
     "output_type": "execute_result"
    }
   ],
   "source": [
    "latent['d_z'][0]"
   ]
  },
  {
   "cell_type": "code",
   "execution_count": 239,
   "metadata": {},
   "outputs": [
    {
     "data": {
      "text/plain": [
       "array([1.17639152, 1.79543389, 0.29650209, 0.43182758, 1.35514535])"
      ]
     },
     "execution_count": 239,
     "metadata": {},
     "output_type": "execute_result"
    }
   ],
   "source": [
    "latent['p_z'][0]"
   ]
  },
  {
   "cell_type": "code",
   "execution_count": 242,
   "metadata": {},
   "outputs": [
    {
     "data": {
      "text/html": [
       "<div>\n",
       "<style scoped>\n",
       "    .dataframe tbody tr th:only-of-type {\n",
       "        vertical-align: middle;\n",
       "    }\n",
       "\n",
       "    .dataframe tbody tr th {\n",
       "        vertical-align: top;\n",
       "    }\n",
       "\n",
       "    .dataframe thead th {\n",
       "        text-align: right;\n",
       "    }\n",
       "</style>\n",
       "<table border=\"1\" class=\"dataframe\">\n",
       "  <thead>\n",
       "    <tr style=\"text-align: right;\">\n",
       "      <th></th>\n",
       "      <th>Token</th>\n",
       "      <th>Annotator1</th>\n",
       "      <th>Annotator2</th>\n",
       "      <th>Annotator3</th>\n",
       "      <th>Annotator4</th>\n",
       "      <th>Annotator5</th>\n",
       "    </tr>\n",
       "  </thead>\n",
       "  <tbody>\n",
       "    <tr>\n",
       "      <th>0</th>\n",
       "      <td>Haematuria</td>\n",
       "      <td>0</td>\n",
       "      <td>0</td>\n",
       "      <td>1</td>\n",
       "      <td>0</td>\n",
       "      <td>1</td>\n",
       "    </tr>\n",
       "    <tr>\n",
       "      <th>1</th>\n",
       "      <td>and</td>\n",
       "      <td>0</td>\n",
       "      <td>0</td>\n",
       "      <td>0</td>\n",
       "      <td>0</td>\n",
       "      <td>0</td>\n",
       "    </tr>\n",
       "  </tbody>\n",
       "</table>\n",
       "</div>"
      ],
      "text/plain": [
       "        Token  Annotator1  Annotator2  Annotator3  Annotator4  Annotator5\n",
       "0  Haematuria           0           0           1           0           1\n",
       "1         and           0           0           0           0           0"
      ]
     },
     "execution_count": 242,
     "metadata": {},
     "output_type": "execute_result"
    }
   ],
   "source": [
    "disease_annotations.iloc[0:2] "
   ]
  },
  {
   "cell_type": "code",
   "execution_count": 243,
   "metadata": {},
   "outputs": [
    {
     "data": {
      "text/html": [
       "<div>\n",
       "<style scoped>\n",
       "    .dataframe tbody tr th:only-of-type {\n",
       "        vertical-align: middle;\n",
       "    }\n",
       "\n",
       "    .dataframe tbody tr th {\n",
       "        vertical-align: top;\n",
       "    }\n",
       "\n",
       "    .dataframe thead th {\n",
       "        text-align: right;\n",
       "    }\n",
       "</style>\n",
       "<table border=\"1\" class=\"dataframe\">\n",
       "  <thead>\n",
       "    <tr style=\"text-align: right;\">\n",
       "      <th></th>\n",
       "      <th>Token</th>\n",
       "      <th>Annotator1</th>\n",
       "      <th>Annotator2</th>\n",
       "      <th>Annotator3</th>\n",
       "      <th>Annotator4</th>\n",
       "      <th>Annotator5</th>\n",
       "    </tr>\n",
       "  </thead>\n",
       "  <tbody>\n",
       "    <tr>\n",
       "      <th>0</th>\n",
       "      <td>Haematuria</td>\n",
       "      <td>1</td>\n",
       "      <td>1</td>\n",
       "      <td>1</td>\n",
       "      <td>1</td>\n",
       "      <td>1</td>\n",
       "    </tr>\n",
       "    <tr>\n",
       "      <th>1</th>\n",
       "      <td>and</td>\n",
       "      <td>0</td>\n",
       "      <td>0</td>\n",
       "      <td>0</td>\n",
       "      <td>0</td>\n",
       "      <td>0</td>\n",
       "    </tr>\n",
       "  </tbody>\n",
       "</table>\n",
       "</div>"
      ],
      "text/plain": [
       "        Token  Annotator1  Annotator2  Annotator3  Annotator4  Annotator5\n",
       "0  Haematuria           1           1           1           1           1\n",
       "1         and           0           0           0           0           0"
      ]
     },
     "execution_count": 243,
     "metadata": {},
     "output_type": "execute_result"
    }
   ],
   "source": [
    "phenotype_annotations.iloc[0:2]"
   ]
  },
  {
   "cell_type": "code",
   "execution_count": null,
   "metadata": {},
   "outputs": [],
   "source": []
  }
 ],
 "metadata": {
  "kernelspec": {
   "display_name": "Python 2",
   "language": "python",
   "name": "python2"
  },
  "language_info": {
   "codemirror_mode": {
    "name": "ipython",
    "version": 2
   },
   "file_extension": ".py",
   "mimetype": "text/x-python",
   "name": "python",
   "nbconvert_exporter": "python",
   "pygments_lexer": "ipython2",
   "version": "2.7.15"
  }
 },
 "nbformat": 4,
 "nbformat_minor": 2
}
