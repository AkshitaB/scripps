{
 "cells": [
  {
   "cell_type": "markdown",
   "metadata": {},
   "source": [
    "# Load libraries"
   ]
  },
  {
   "cell_type": "code",
   "execution_count": 1,
   "metadata": {},
   "outputs": [],
   "source": [
    "%matplotlib inline\n",
    "\n",
    "import os\n",
    "import math\n",
    "\n",
    "import configparser\n",
    "\n",
    "import numpy as np\n",
    "import pandas as pd\n",
    "import matplotlib.pylab as plt\n",
    "\n",
    "import sys\n",
    "sys.path.append('../..')\n",
    "\n",
    "from scripps.utils import read_datasets, norm1d, bayesian_linear_regression\n",
    "\n",
    "import seaborn as sns"
   ]
  },
  {
   "cell_type": "code",
   "execution_count": 364,
   "metadata": {},
   "outputs": [],
   "source": [
    "#np.random.seed(23) #Not working"
   ]
  },
  {
   "cell_type": "markdown",
   "metadata": {},
   "source": [
    "# Load all mark2cure citizen scientist annotations"
   ]
  },
  {
   "cell_type": "code",
   "execution_count": 2,
   "metadata": {},
   "outputs": [],
   "source": [
    "CF = read_datasets.get_configuration()\n",
    "\n",
    "def read_disease_annotations():\n",
    "    annotations = pd.DataFrame()\n",
    "    anno = read_datasets.load_dataset('m2c_citizen_disease', 'files1')\n",
    "    anno[3].replace(['I-Disease', 'O'], [1, 0], inplace=True)\n",
    "    annotations = pd.concat([annotations, anno[0].rename('Token')], axis=1)\n",
    "    annotations = pd.concat([annotations, anno[3].rename('Annotator1')], axis=1)\n",
    "    for i in range(2, 6):\n",
    "        anno = read_datasets.load_dataset('m2c_citizen_disease', 'files{}'.format(i))\n",
    "        anno[3].replace(['I-Disease', 'O'], [1, 0], inplace=True)\n",
    "        annotations = pd.concat([annotations, anno[3].rename('Annotator{}'.format(i))], axis=1)\n",
    "    return annotations\n",
    "\n",
    "def read_phenotype_annotations():\n",
    "    annotations = pd.DataFrame()\n",
    "    anno = read_datasets.load_dataset('m2c_citizen_phenotype', 'files1')\n",
    "    anno[3].replace(['I-Phenotype', 'O'], [1, 0], inplace=True)\n",
    "    annotations = pd.concat([annotations, anno[0].rename('Token')], axis=1)\n",
    "    annotations = pd.concat([annotations, anno[3].rename('Annotator1')], axis=1)\n",
    "    for i in range(2, 6):\n",
    "        anno = read_datasets.load_dataset('m2c_citizen_phenotype', 'files{}'.format(i))\n",
    "        anno[3].replace(['I-Phenotype', 'O'], [1, 0], inplace=True)\n",
    "        annotations = pd.concat([annotations, anno[3].rename('Annotator{}'.format(i))], axis=1)\n",
    "    return annotations"
   ]
  },
  {
   "cell_type": "code",
   "execution_count": 3,
   "metadata": {},
   "outputs": [],
   "source": [
    "disease_annotations = read_disease_annotations()\n",
    "phenotype_annotations = read_phenotype_annotations()"
   ]
  },
  {
   "cell_type": "markdown",
   "metadata": {},
   "source": [
    "# Load original annotations"
   ]
  },
  {
   "cell_type": "code",
   "execution_count": 4,
   "metadata": {},
   "outputs": [],
   "source": [
    "def read_both_annotations():\n",
    "    annotations = pd.DataFrame()\n",
    "    anno = read_datasets.load_dataset('m2c', 'files1')\n",
    "    anno[3].replace(['I-?', 'I-Disease_Phen', 'I-Gene'], ['O', 'I-Disease_Pheno', 'O'], inplace=True)\n",
    "    annotations = pd.concat([annotations, anno[0].rename('Token')], axis=1)\n",
    "    annotations = pd.concat([annotations, anno[3].rename('Annotator1')], axis=1)\n",
    "    for i in range(2, 6):\n",
    "        anno = read_datasets.load_dataset('m2c', 'files{}'.format(i))\n",
    "        anno[3].replace(['I-?', 'I-Disease_Phen', 'I-Gene'], ['O', 'I-Disease_Pheno', 'O'], inplace=True)\n",
    "        annotations = pd.concat([annotations, anno[3].rename('Annotator{}'.format(i))], axis=1)\n",
    "    return annotations\n",
    "\n",
    "def sanity_check(annotations, columns, values):\n",
    "    for col in columns:\n",
    "        assert set(annotations[col].unique()) == set(values)\n"
   ]
  },
  {
   "cell_type": "code",
   "execution_count": 5,
   "metadata": {},
   "outputs": [],
   "source": [
    "mixed_annotations = read_both_annotations()\n",
    "sanity_check(mixed_annotations, ['Annotator1', 'Annotator2', 'Annotator3', 'Annotator4', 'Annotator5'], ['I-Disease', 'I-Phenotype', 'I-Disease_Pheno', 'O'])"
   ]
  },
  {
   "cell_type": "markdown",
   "metadata": {},
   "source": [
    "# Filter relevant rows"
   ]
  },
  {
   "cell_type": "code",
   "execution_count": 6,
   "metadata": {},
   "outputs": [],
   "source": [
    "def get_relevant_rows(annotations):\n",
    "    relevant = annotations[['Annotator1', 'Annotator2', 'Annotator3', 'Annotator4', 'Annotator5']] != 'O'\n",
    "    relevant = annotations[relevant.all(axis=1)]\n",
    "    return relevant"
   ]
  },
  {
   "cell_type": "code",
   "execution_count": 7,
   "metadata": {},
   "outputs": [],
   "source": [
    "relevant_annotations = get_relevant_rows(mixed_annotations)"
   ]
  },
  {
   "cell_type": "code",
   "execution_count": 8,
   "metadata": {},
   "outputs": [],
   "source": [
    "disease_annotations = disease_annotations.iloc[relevant_annotations.index]\n",
    "phenotype_annotations = phenotype_annotations.iloc[relevant_annotations.index]"
   ]
  },
  {
   "cell_type": "markdown",
   "metadata": {},
   "source": [
    "# Initialize latent variables"
   ]
  },
  {
   "cell_type": "code",
   "execution_count": 372,
   "metadata": {},
   "outputs": [],
   "source": [
    "K = disease_annotations.shape[0]\n",
    "J = disease_annotations.shape[1] - 1\n",
    "\n",
    "latent = {}\n",
    "\n",
    "latent['theta'] = np.zeros(K)\n",
    "latent['d_alpha'] = np.zeros(J)\n",
    "latent['d_beta'] = np.zeros(J)\n",
    "latent['d_z'] = np.zeros((K, J))\n",
    "\n",
    "latent['p_alpha'] = np.zeros(J)\n",
    "latent['p_beta'] = np.zeros(J)\n",
    "latent['p_z'] = np.zeros((K, J))\n",
    "\n",
    "#Should these be separate for disease and phenotype?\n",
    "latent['b0'] = np.zeros(2)\n",
    "latent['B0_scale'] = 1\n",
    "latent['m0'] = np.zeros(K) #TODO: ask HS regarding changing certain values here.\n",
    "latent['C0_scale'] = 1\n",
    "\n",
    "latent['K'] = K\n",
    "latent['J'] = J"
   ]
  },
  {
   "cell_type": "markdown",
   "metadata": {},
   "source": [
    "# Define functions for resampling using Gibbs sampling"
   ]
  },
  {
   "cell_type": "code",
   "execution_count": 373,
   "metadata": {},
   "outputs": [],
   "source": [
    "def __get_alpha_beta_z(mode):\n",
    "    if mode == 'disease':\n",
    "        alpha = latent['d_alpha']\n",
    "        beta = latent['d_beta']\n",
    "        z = latent['d_z']\n",
    "    else:\n",
    "        alpha = latent['p_alpha']\n",
    "        beta = latent['p_beta']\n",
    "        z = latent['p_z']\n",
    "    return alpha, beta, z\n",
    "    "
   ]
  },
  {
   "cell_type": "code",
   "execution_count": 374,
   "metadata": {},
   "outputs": [],
   "source": [
    "def __resample_z(alpha, beta, z, annotations):\n",
    "    interval = [-100, 100] #Should this be changed?\n",
    "    for k in range(K):\n",
    "    #for k in annotations.index:\n",
    "        for j in range(J):\n",
    "            mean = alpha[j] + beta[j]*latent['theta'][k]\n",
    "            std_dev = 1\n",
    "            '''\n",
    "            if(annotations['Annotator{}'.format(j+1)][k] == 0):\n",
    "                z[k, j] = norm1d.truncnormal(mean, std_dev, interval[0], 0)\n",
    "            elif(annotations['Annotator{}'.format(j+1)][k] == 1):\n",
    "                z[k, j] = norm1d.truncnormal(mean, std_dev, 0, interval[1])\n",
    "            '''\n",
    "            if(annotations['Annotator{}'.format(j+1)][annotations.index[k]] == 0):\n",
    "                z[k, j] = norm1d.truncnormal(mean, std_dev, interval[0], 0)\n",
    "            elif(annotations['Annotator{}'.format(j+1)][annotations.index[k]] == 1):\n",
    "                z[k, j] = norm1d.truncnormal(mean, std_dev, 0, interval[1])\n",
    "    \n",
    "def resample_z(mode):\n",
    "    alpha, beta, z = __get_alpha_beta_z(mode)\n",
    "    if mode == 'disease':\n",
    "        annotations = disease_annotations\n",
    "    else:\n",
    "        annotations = phenotype_annotations\n",
    "    __resample_z(alpha, beta, z, annotations)"
   ]
  },
  {
   "cell_type": "code",
   "execution_count": 375,
   "metadata": {},
   "outputs": [],
   "source": [
    "def __resample_alpha_beta(alpha, beta, z):\n",
    "    for j in range(J):\n",
    "        Y = z[:, j]\n",
    "        X = np.vstack((np.ones(K), latent['theta'])).T\n",
    "        \n",
    "        WN, VN = bayesian_linear_regression.linreg_post(X, Y, latent['b0'], latent['B0_scale'], 1)\n",
    "        sample = np.random.multivariate_normal(WN, VN)\n",
    "        alpha[j] = sample[0]\n",
    "        beta[j] = sample[1]\n",
    "\n",
    "def resample_alpha_beta(mode):\n",
    "    alpha, beta, z = __get_alpha_beta_z(mode)\n",
    "    __resample_alpha_beta(alpha, beta, z)"
   ]
  },
  {
   "cell_type": "code",
   "execution_count": 376,
   "metadata": {},
   "outputs": [],
   "source": [
    "def resample_theta():\n",
    "    for k in range(K):\n",
    "        #Y = latent['d_z'][k, :] - latent['d_alpha'] + latent['p_z'][k, :] - latent['p_alpha']\n",
    "        #X = latent['d_beta'] + latent['p_beta']\n",
    "        Y = np.concatenate(((latent['d_z'][k, :] - latent['d_alpha']), (latent['p_z'][k, :] - latent['p_alpha'])), axis=0)\n",
    "        X = np.concatenate((latent['d_beta'], latent['p_beta']), axis=0)\n",
    "        X = np.reshape(X, (-1, 1))\n",
    "        WN, VN = bayesian_linear_regression.linreg_post(X, Y, latent['m0'][k], latent['C0_scale'], 1)\n",
    "        latent['theta'][k] = np.random.normal(WN, math.sqrt(VN))"
   ]
  },
  {
   "cell_type": "code",
   "execution_count": 377,
   "metadata": {},
   "outputs": [],
   "source": [
    "def save_latent_variables():\n",
    "    #TODO: save to csv.\n",
    "    pass\n",
    "\n",
    "\n",
    "def resample():\n",
    "    resample_z('disease')\n",
    "    resample_z('phenotype')\n",
    "    resample_theta()\n",
    "    resample_alpha_beta('disease')\n",
    "    resample_alpha_beta('phenotype')\n",
    "    \n",
    "    save_latent_variables()\n",
    "    \n",
    "def has_converged():\n",
    "    #TODO\n",
    "    pass\n",
    "    \n",
    "def run_sampling(num_iter, thresh, print_freq=50):\n",
    "    thetas = []\n",
    "    d_alphas = []\n",
    "    d_betas = []\n",
    "    p_alphas = []\n",
    "    p_betas = []\n",
    "    for it in xrange(1, num_iter+1):\n",
    "        resample()\n",
    "        if it%print_freq == 0:\n",
    "            print 'Iter {}/{} done.'.format(it, num_iter)\n",
    "        if has_converged():\n",
    "            break\n",
    "        if it > thresh:\n",
    "            thetas.append(np.array(latent['theta']))\n",
    "            d_alphas.append(np.array(latent['d_alpha']))\n",
    "            p_alphas.append(np.array(latent['p_alpha']))\n",
    "            d_betas.append(np.array(latent['d_beta']))\n",
    "            p_betas.append(np.array(latent['p_beta']))\n",
    "\n",
    "    all_values = {}\n",
    "    all_values['thetas'] = thetas\n",
    "    all_values['d_alphas'] = d_alphas\n",
    "    all_values['d_betas'] = d_betas\n",
    "    all_values['p_alphas'] = p_alphas\n",
    "    all_values['p_betas'] = p_betas\n",
    "    \n",
    "    return all_values\n",
    "\n",
    "def get_averages(all_values, num_iter, thresh):\n",
    "    avg_values = {}\n",
    "    avg_values['theta'] = np.sum(all_values['thetas'], axis=0)/(num_iter - thresh)\n",
    "    avg_values['d_alpha'] = np.sum(all_values['d_alphas'], axis=0)/(num_iter - thresh)\n",
    "    avg_values['d_beta'] = np.sum(all_values['d_betas'], axis=0)/(num_iter - thresh)\n",
    "    avg_values['p_alpha'] = np.sum(all_values['p_alphas'], axis=0)/(num_iter - thresh)\n",
    "    avg_values['p_beta'] = np.sum(all_values['p_betas'], axis=0)/(num_iter - thresh)\n",
    "    return avg_values"
   ]
  },
  {
   "cell_type": "code",
   "execution_count": 378,
   "metadata": {},
   "outputs": [
    {
     "name": "stdout",
     "output_type": "stream",
     "text": [
      "Iter 50/2000 done.\n",
      "Iter 100/2000 done.\n",
      "Iter 150/2000 done.\n",
      "Iter 200/2000 done.\n",
      "Iter 250/2000 done.\n",
      "Iter 300/2000 done.\n",
      "Iter 350/2000 done.\n",
      "Iter 400/2000 done.\n",
      "Iter 450/2000 done.\n",
      "Iter 500/2000 done.\n",
      "Iter 550/2000 done.\n",
      "Iter 600/2000 done.\n",
      "Iter 650/2000 done.\n",
      "Iter 700/2000 done.\n",
      "Iter 750/2000 done.\n",
      "Iter 800/2000 done.\n",
      "Iter 850/2000 done.\n",
      "Iter 900/2000 done.\n",
      "Iter 950/2000 done.\n",
      "Iter 1000/2000 done.\n",
      "Iter 1050/2000 done.\n",
      "Iter 1100/2000 done.\n",
      "Iter 1150/2000 done.\n",
      "Iter 1200/2000 done.\n",
      "Iter 1250/2000 done.\n",
      "Iter 1300/2000 done.\n",
      "Iter 1350/2000 done.\n",
      "Iter 1400/2000 done.\n",
      "Iter 1450/2000 done.\n",
      "Iter 1500/2000 done.\n",
      "Iter 1550/2000 done.\n",
      "Iter 1600/2000 done.\n",
      "Iter 1650/2000 done.\n",
      "Iter 1700/2000 done.\n",
      "Iter 1750/2000 done.\n",
      "Iter 1800/2000 done.\n",
      "Iter 1850/2000 done.\n",
      "Iter 1900/2000 done.\n",
      "Iter 1950/2000 done.\n",
      "Iter 2000/2000 done.\n"
     ]
    }
   ],
   "source": [
    "num_iter = 2000\n",
    "thresh = 300\n",
    "all_values = run_sampling(num_iter, thresh)\n",
    "avg_values = get_averages(all_values, num_iter, thresh)"
   ]
  },
  {
   "cell_type": "code",
   "execution_count": 440,
   "metadata": {},
   "outputs": [],
   "source": [
    "def get_annotator_bias(alpha, beta):\n",
    "    # compute xr and xa using above latent vars.\n",
    "    xa = -(4*alpha - beta*beta)/(4*beta)\n",
    "    xr = -(4*alpha + beta*beta)/(4*beta)\n",
    "    return xa, xr\n",
    "\n",
    "def plot_thetas(pos_annos, annotator):\n",
    "    pos_annos['zeros'] = 0\n",
    "    ax = sns.scatterplot(x=0, y=\"zeros\", hue=annotator, \\\n",
    "                         data=pos_annos, hue_order=['I-Disease', 'I-Disease_Pheno', 'I-Phenotype'])\n",
    "    \n"
   ]
  },
  {
   "cell_type": "code",
   "execution_count": 380,
   "metadata": {},
   "outputs": [
    {
     "name": "stdout",
     "output_type": "stream",
     "text": [
      "theta range: (-1.27252081647, 2.27871717246)\n"
     ]
    }
   ],
   "source": [
    "print 'theta range: ({}, {})'.format(min(avg_values['theta']), max(avg_values['theta']))"
   ]
  },
  {
   "cell_type": "code",
   "execution_count": 381,
   "metadata": {},
   "outputs": [],
   "source": [
    "relevant_annotations = relevant_annotations.reset_index()"
   ]
  },
  {
   "cell_type": "code",
   "execution_count": 382,
   "metadata": {},
   "outputs": [
    {
     "data": {
      "text/html": [
       "<div>\n",
       "<style scoped>\n",
       "    .dataframe tbody tr th:only-of-type {\n",
       "        vertical-align: middle;\n",
       "    }\n",
       "\n",
       "    .dataframe tbody tr th {\n",
       "        vertical-align: top;\n",
       "    }\n",
       "\n",
       "    .dataframe thead th {\n",
       "        text-align: right;\n",
       "    }\n",
       "</style>\n",
       "<table border=\"1\" class=\"dataframe\">\n",
       "  <thead>\n",
       "    <tr style=\"text-align: right;\">\n",
       "      <th></th>\n",
       "      <th>Token</th>\n",
       "      <th>Annotator1</th>\n",
       "      <th>Annotator2</th>\n",
       "      <th>Annotator3</th>\n",
       "      <th>Annotator4</th>\n",
       "      <th>Annotator5</th>\n",
       "      <th>0</th>\n",
       "    </tr>\n",
       "  </thead>\n",
       "  <tbody>\n",
       "    <tr>\n",
       "      <th>0</th>\n",
       "      <td>Haematuria</td>\n",
       "      <td>I-Phenotype</td>\n",
       "      <td>I-Phenotype</td>\n",
       "      <td>I-Disease_Pheno</td>\n",
       "      <td>I-Phenotype</td>\n",
       "      <td>I-Disease_Pheno</td>\n",
       "      <td>1.588087</td>\n",
       "    </tr>\n",
       "    <tr>\n",
       "      <th>1</th>\n",
       "      <td>abdominal</td>\n",
       "      <td>I-Disease</td>\n",
       "      <td>I-Disease</td>\n",
       "      <td>I-Disease</td>\n",
       "      <td>I-Disease_Pheno</td>\n",
       "      <td>I-Disease</td>\n",
       "      <td>-0.498895</td>\n",
       "    </tr>\n",
       "    <tr>\n",
       "      <th>2</th>\n",
       "      <td>aortic</td>\n",
       "      <td>I-Disease</td>\n",
       "      <td>I-Disease</td>\n",
       "      <td>I-Disease</td>\n",
       "      <td>I-Disease_Pheno</td>\n",
       "      <td>I-Disease</td>\n",
       "      <td>-0.436255</td>\n",
       "    </tr>\n",
       "    <tr>\n",
       "      <th>3</th>\n",
       "      <td>aneurysm</td>\n",
       "      <td>I-Disease</td>\n",
       "      <td>I-Disease</td>\n",
       "      <td>I-Disease</td>\n",
       "      <td>I-Disease_Pheno</td>\n",
       "      <td>I-Disease</td>\n",
       "      <td>-0.392996</td>\n",
       "    </tr>\n",
       "    <tr>\n",
       "      <th>4</th>\n",
       "      <td>Haematuria</td>\n",
       "      <td>I-Phenotype</td>\n",
       "      <td>I-Phenotype</td>\n",
       "      <td>I-Disease_Pheno</td>\n",
       "      <td>I-Phenotype</td>\n",
       "      <td>I-Disease_Pheno</td>\n",
       "      <td>1.557895</td>\n",
       "    </tr>\n",
       "    <tr>\n",
       "      <th>5</th>\n",
       "      <td>pain</td>\n",
       "      <td>I-Phenotype</td>\n",
       "      <td>I-Phenotype</td>\n",
       "      <td>I-Disease_Pheno</td>\n",
       "      <td>I-Phenotype</td>\n",
       "      <td>I-Phenotype</td>\n",
       "      <td>1.660037</td>\n",
       "    </tr>\n",
       "    <tr>\n",
       "      <th>6</th>\n",
       "      <td>abdominal</td>\n",
       "      <td>I-Disease</td>\n",
       "      <td>I-Disease</td>\n",
       "      <td>I-Disease</td>\n",
       "      <td>I-Disease_Pheno</td>\n",
       "      <td>I-Disease</td>\n",
       "      <td>-0.432832</td>\n",
       "    </tr>\n",
       "    <tr>\n",
       "      <th>7</th>\n",
       "      <td>aortic</td>\n",
       "      <td>I-Disease</td>\n",
       "      <td>I-Disease</td>\n",
       "      <td>I-Disease</td>\n",
       "      <td>I-Disease_Pheno</td>\n",
       "      <td>I-Disease</td>\n",
       "      <td>-0.360766</td>\n",
       "    </tr>\n",
       "    <tr>\n",
       "      <th>8</th>\n",
       "      <td>Acanthosis</td>\n",
       "      <td>I-Disease</td>\n",
       "      <td>I-Disease_Pheno</td>\n",
       "      <td>I-Disease_Pheno</td>\n",
       "      <td>I-Disease_Pheno</td>\n",
       "      <td>I-Disease</td>\n",
       "      <td>0.354537</td>\n",
       "    </tr>\n",
       "    <tr>\n",
       "      <th>9</th>\n",
       "      <td>nigricans</td>\n",
       "      <td>I-Disease</td>\n",
       "      <td>I-Disease_Pheno</td>\n",
       "      <td>I-Disease_Pheno</td>\n",
       "      <td>I-Disease_Pheno</td>\n",
       "      <td>I-Disease</td>\n",
       "      <td>0.322725</td>\n",
       "    </tr>\n",
       "    <tr>\n",
       "      <th>10</th>\n",
       "      <td>Acanthosis</td>\n",
       "      <td>I-Disease</td>\n",
       "      <td>I-Disease_Pheno</td>\n",
       "      <td>I-Disease_Pheno</td>\n",
       "      <td>I-Disease_Pheno</td>\n",
       "      <td>I-Disease</td>\n",
       "      <td>0.327778</td>\n",
       "    </tr>\n",
       "    <tr>\n",
       "      <th>11</th>\n",
       "      <td>nigricans</td>\n",
       "      <td>I-Disease</td>\n",
       "      <td>I-Disease_Pheno</td>\n",
       "      <td>I-Disease_Pheno</td>\n",
       "      <td>I-Disease_Pheno</td>\n",
       "      <td>I-Disease</td>\n",
       "      <td>0.347600</td>\n",
       "    </tr>\n",
       "    <tr>\n",
       "      <th>12</th>\n",
       "      <td>fractured</td>\n",
       "      <td>I-Disease</td>\n",
       "      <td>I-Phenotype</td>\n",
       "      <td>I-Phenotype</td>\n",
       "      <td>I-Disease</td>\n",
       "      <td>I-Disease</td>\n",
       "      <td>0.595959</td>\n",
       "    </tr>\n",
       "    <tr>\n",
       "      <th>13</th>\n",
       "      <td>phalanges</td>\n",
       "      <td>I-Disease</td>\n",
       "      <td>I-Phenotype</td>\n",
       "      <td>I-Phenotype</td>\n",
       "      <td>I-Disease</td>\n",
       "      <td>I-Disease</td>\n",
       "      <td>0.620284</td>\n",
       "    </tr>\n",
       "    <tr>\n",
       "      <th>14</th>\n",
       "      <td>fractured</td>\n",
       "      <td>I-Disease</td>\n",
       "      <td>I-Phenotype</td>\n",
       "      <td>I-Phenotype</td>\n",
       "      <td>I-Disease</td>\n",
       "      <td>I-Disease</td>\n",
       "      <td>0.617877</td>\n",
       "    </tr>\n",
       "    <tr>\n",
       "      <th>15</th>\n",
       "      <td>phalanges</td>\n",
       "      <td>I-Disease</td>\n",
       "      <td>I-Phenotype</td>\n",
       "      <td>I-Phenotype</td>\n",
       "      <td>I-Disease</td>\n",
       "      <td>I-Disease</td>\n",
       "      <td>0.598854</td>\n",
       "    </tr>\n",
       "    <tr>\n",
       "      <th>16</th>\n",
       "      <td>Renal</td>\n",
       "      <td>I-Disease</td>\n",
       "      <td>I-Disease</td>\n",
       "      <td>I-Disease</td>\n",
       "      <td>I-Disease_Pheno</td>\n",
       "      <td>I-Disease</td>\n",
       "      <td>-0.452345</td>\n",
       "    </tr>\n",
       "    <tr>\n",
       "      <th>17</th>\n",
       "      <td>cell</td>\n",
       "      <td>I-Disease</td>\n",
       "      <td>I-Disease</td>\n",
       "      <td>I-Disease</td>\n",
       "      <td>I-Disease_Pheno</td>\n",
       "      <td>I-Disease</td>\n",
       "      <td>-0.404145</td>\n",
       "    </tr>\n",
       "    <tr>\n",
       "      <th>18</th>\n",
       "      <td>carcinoma</td>\n",
       "      <td>I-Disease</td>\n",
       "      <td>I-Disease</td>\n",
       "      <td>I-Disease</td>\n",
       "      <td>I-Disease_Pheno</td>\n",
       "      <td>I-Disease</td>\n",
       "      <td>-0.411344</td>\n",
       "    </tr>\n",
       "    <tr>\n",
       "      <th>19</th>\n",
       "      <td>urothelial</td>\n",
       "      <td>I-Disease</td>\n",
       "      <td>I-Disease</td>\n",
       "      <td>I-Disease</td>\n",
       "      <td>I-Disease_Pheno</td>\n",
       "      <td>I-Disease</td>\n",
       "      <td>-0.479570</td>\n",
       "    </tr>\n",
       "    <tr>\n",
       "      <th>20</th>\n",
       "      <td>carcinoma</td>\n",
       "      <td>I-Disease</td>\n",
       "      <td>I-Disease</td>\n",
       "      <td>I-Disease</td>\n",
       "      <td>I-Disease_Pheno</td>\n",
       "      <td>I-Disease</td>\n",
       "      <td>-0.359101</td>\n",
       "    </tr>\n",
       "    <tr>\n",
       "      <th>21</th>\n",
       "      <td>non</td>\n",
       "      <td>I-Disease</td>\n",
       "      <td>I-Disease</td>\n",
       "      <td>I-Disease</td>\n",
       "      <td>I-Disease</td>\n",
       "      <td>I-Disease</td>\n",
       "      <td>-1.007866</td>\n",
       "    </tr>\n",
       "    <tr>\n",
       "      <th>22</th>\n",
       "      <td>-</td>\n",
       "      <td>I-Disease</td>\n",
       "      <td>I-Disease</td>\n",
       "      <td>I-Disease</td>\n",
       "      <td>I-Disease</td>\n",
       "      <td>I-Disease</td>\n",
       "      <td>-0.958816</td>\n",
       "    </tr>\n",
       "    <tr>\n",
       "      <th>23</th>\n",
       "      <td>Hodgkin</td>\n",
       "      <td>I-Disease</td>\n",
       "      <td>I-Disease</td>\n",
       "      <td>I-Disease</td>\n",
       "      <td>I-Disease</td>\n",
       "      <td>I-Disease</td>\n",
       "      <td>-1.037512</td>\n",
       "    </tr>\n",
       "    <tr>\n",
       "      <th>24</th>\n",
       "      <td>lymphoma</td>\n",
       "      <td>I-Disease</td>\n",
       "      <td>I-Disease</td>\n",
       "      <td>I-Disease</td>\n",
       "      <td>I-Disease</td>\n",
       "      <td>I-Disease</td>\n",
       "      <td>-0.868380</td>\n",
       "    </tr>\n",
       "    <tr>\n",
       "      <th>25</th>\n",
       "      <td>lymphoma</td>\n",
       "      <td>I-Disease</td>\n",
       "      <td>I-Disease</td>\n",
       "      <td>I-Disease</td>\n",
       "      <td>I-Disease_Pheno</td>\n",
       "      <td>I-Disease</td>\n",
       "      <td>-0.436309</td>\n",
       "    </tr>\n",
       "    <tr>\n",
       "      <th>26</th>\n",
       "      <td>hematuria</td>\n",
       "      <td>I-Disease_Pheno</td>\n",
       "      <td>I-Phenotype</td>\n",
       "      <td>I-Disease_Pheno</td>\n",
       "      <td>I-Phenotype</td>\n",
       "      <td>I-Disease_Pheno</td>\n",
       "      <td>1.288526</td>\n",
       "    </tr>\n",
       "    <tr>\n",
       "      <th>27</th>\n",
       "      <td>tumor</td>\n",
       "      <td>I-Disease_Pheno</td>\n",
       "      <td>I-Disease_Pheno</td>\n",
       "      <td>I-Disease_Pheno</td>\n",
       "      <td>I-Disease_Pheno</td>\n",
       "      <td>I-Disease</td>\n",
       "      <td>0.512788</td>\n",
       "    </tr>\n",
       "    <tr>\n",
       "      <th>28</th>\n",
       "      <td>enlarged</td>\n",
       "      <td>I-Phenotype</td>\n",
       "      <td>I-Phenotype</td>\n",
       "      <td>I-Phenotype</td>\n",
       "      <td>I-Phenotype</td>\n",
       "      <td>I-Phenotype</td>\n",
       "      <td>2.073220</td>\n",
       "    </tr>\n",
       "    <tr>\n",
       "      <th>29</th>\n",
       "      <td>lymph</td>\n",
       "      <td>I-Phenotype</td>\n",
       "      <td>I-Phenotype</td>\n",
       "      <td>I-Phenotype</td>\n",
       "      <td>I-Phenotype</td>\n",
       "      <td>I-Phenotype</td>\n",
       "      <td>2.016877</td>\n",
       "    </tr>\n",
       "    <tr>\n",
       "      <th>...</th>\n",
       "      <td>...</td>\n",
       "      <td>...</td>\n",
       "      <td>...</td>\n",
       "      <td>...</td>\n",
       "      <td>...</td>\n",
       "      <td>...</td>\n",
       "      <td>...</td>\n",
       "    </tr>\n",
       "    <tr>\n",
       "      <th>473</th>\n",
       "      <td>polycythemia</td>\n",
       "      <td>I-Disease_Pheno</td>\n",
       "      <td>I-Disease_Pheno</td>\n",
       "      <td>I-Disease_Pheno</td>\n",
       "      <td>I-Disease</td>\n",
       "      <td>I-Disease</td>\n",
       "      <td>0.424215</td>\n",
       "    </tr>\n",
       "    <tr>\n",
       "      <th>474</th>\n",
       "      <td>infection</td>\n",
       "      <td>I-Disease_Pheno</td>\n",
       "      <td>I-Phenotype</td>\n",
       "      <td>I-Phenotype</td>\n",
       "      <td>I-Phenotype</td>\n",
       "      <td>I-Disease</td>\n",
       "      <td>1.267484</td>\n",
       "    </tr>\n",
       "    <tr>\n",
       "      <th>475</th>\n",
       "      <td>thrombophilias</td>\n",
       "      <td>I-Disease_Pheno</td>\n",
       "      <td>I-Disease_Pheno</td>\n",
       "      <td>I-Phenotype</td>\n",
       "      <td>I-Phenotype</td>\n",
       "      <td>I-Disease</td>\n",
       "      <td>0.828237</td>\n",
       "    </tr>\n",
       "    <tr>\n",
       "      <th>476</th>\n",
       "      <td>cerebral</td>\n",
       "      <td>I-Disease</td>\n",
       "      <td>I-Disease</td>\n",
       "      <td>I-Phenotype</td>\n",
       "      <td>I-Phenotype</td>\n",
       "      <td>I-Disease</td>\n",
       "      <td>0.435838</td>\n",
       "    </tr>\n",
       "    <tr>\n",
       "      <th>477</th>\n",
       "      <td>infarction</td>\n",
       "      <td>I-Disease</td>\n",
       "      <td>I-Disease</td>\n",
       "      <td>I-Phenotype</td>\n",
       "      <td>I-Phenotype</td>\n",
       "      <td>I-Disease</td>\n",
       "      <td>0.431678</td>\n",
       "    </tr>\n",
       "    <tr>\n",
       "      <th>478</th>\n",
       "      <td>placental</td>\n",
       "      <td>I-Disease</td>\n",
       "      <td>I-Disease</td>\n",
       "      <td>I-Phenotype</td>\n",
       "      <td>I-Disease</td>\n",
       "      <td>I-Disease</td>\n",
       "      <td>-0.012235</td>\n",
       "    </tr>\n",
       "    <tr>\n",
       "      <th>479</th>\n",
       "      <td>chorioangioma</td>\n",
       "      <td>I-Disease</td>\n",
       "      <td>I-Disease</td>\n",
       "      <td>I-Phenotype</td>\n",
       "      <td>I-Disease</td>\n",
       "      <td>I-Disease</td>\n",
       "      <td>-0.037872</td>\n",
       "    </tr>\n",
       "    <tr>\n",
       "      <th>480</th>\n",
       "      <td>numbness</td>\n",
       "      <td>I-Phenotype</td>\n",
       "      <td>I-Phenotype</td>\n",
       "      <td>I-Phenotype</td>\n",
       "      <td>I-Phenotype</td>\n",
       "      <td>I-Disease_Pheno</td>\n",
       "      <td>1.910456</td>\n",
       "    </tr>\n",
       "    <tr>\n",
       "      <th>481</th>\n",
       "      <td>bloatedness</td>\n",
       "      <td>I-Phenotype</td>\n",
       "      <td>I-Phenotype</td>\n",
       "      <td>I-Phenotype</td>\n",
       "      <td>I-Phenotype</td>\n",
       "      <td>I-Phenotype</td>\n",
       "      <td>2.235566</td>\n",
       "    </tr>\n",
       "    <tr>\n",
       "      <th>482</th>\n",
       "      <td>neurological</td>\n",
       "      <td>I-Disease_Pheno</td>\n",
       "      <td>I-Phenotype</td>\n",
       "      <td>I-Disease_Pheno</td>\n",
       "      <td>I-Phenotype</td>\n",
       "      <td>I-Disease</td>\n",
       "      <td>1.127145</td>\n",
       "    </tr>\n",
       "    <tr>\n",
       "      <th>483</th>\n",
       "      <td>deficit</td>\n",
       "      <td>I-Disease_Pheno</td>\n",
       "      <td>I-Phenotype</td>\n",
       "      <td>I-Disease_Pheno</td>\n",
       "      <td>I-Phenotype</td>\n",
       "      <td>I-Disease</td>\n",
       "      <td>1.081266</td>\n",
       "    </tr>\n",
       "    <tr>\n",
       "      <th>484</th>\n",
       "      <td>sarcoidosis</td>\n",
       "      <td>I-Disease</td>\n",
       "      <td>I-Disease</td>\n",
       "      <td>I-Disease</td>\n",
       "      <td>I-Disease_Pheno</td>\n",
       "      <td>I-Disease</td>\n",
       "      <td>-0.483519</td>\n",
       "    </tr>\n",
       "    <tr>\n",
       "      <th>485</th>\n",
       "      <td>Sarcoidosis</td>\n",
       "      <td>I-Disease</td>\n",
       "      <td>I-Disease</td>\n",
       "      <td>I-Disease</td>\n",
       "      <td>I-Disease_Pheno</td>\n",
       "      <td>I-Disease</td>\n",
       "      <td>-0.503602</td>\n",
       "    </tr>\n",
       "    <tr>\n",
       "      <th>486</th>\n",
       "      <td>stroke</td>\n",
       "      <td>I-Disease</td>\n",
       "      <td>I-Disease</td>\n",
       "      <td>I-Disease</td>\n",
       "      <td>I-Phenotype</td>\n",
       "      <td>I-Disease</td>\n",
       "      <td>0.164407</td>\n",
       "    </tr>\n",
       "    <tr>\n",
       "      <th>487</th>\n",
       "      <td>focal</td>\n",
       "      <td>I-Disease_Pheno</td>\n",
       "      <td>I-Phenotype</td>\n",
       "      <td>I-Disease_Pheno</td>\n",
       "      <td>I-Phenotype</td>\n",
       "      <td>I-Disease</td>\n",
       "      <td>1.126920</td>\n",
       "    </tr>\n",
       "    <tr>\n",
       "      <th>488</th>\n",
       "      <td>neurological</td>\n",
       "      <td>I-Disease_Pheno</td>\n",
       "      <td>I-Phenotype</td>\n",
       "      <td>I-Disease_Pheno</td>\n",
       "      <td>I-Phenotype</td>\n",
       "      <td>I-Disease</td>\n",
       "      <td>1.102150</td>\n",
       "    </tr>\n",
       "    <tr>\n",
       "      <th>489</th>\n",
       "      <td>deficit</td>\n",
       "      <td>I-Disease_Pheno</td>\n",
       "      <td>I-Phenotype</td>\n",
       "      <td>I-Disease_Pheno</td>\n",
       "      <td>I-Phenotype</td>\n",
       "      <td>I-Disease</td>\n",
       "      <td>1.122803</td>\n",
       "    </tr>\n",
       "    <tr>\n",
       "      <th>490</th>\n",
       "      <td>focal</td>\n",
       "      <td>I-Disease_Pheno</td>\n",
       "      <td>I-Phenotype</td>\n",
       "      <td>I-Disease_Pheno</td>\n",
       "      <td>I-Phenotype</td>\n",
       "      <td>I-Disease</td>\n",
       "      <td>1.122338</td>\n",
       "    </tr>\n",
       "    <tr>\n",
       "      <th>491</th>\n",
       "      <td>neurological</td>\n",
       "      <td>I-Disease_Pheno</td>\n",
       "      <td>I-Phenotype</td>\n",
       "      <td>I-Disease_Pheno</td>\n",
       "      <td>I-Phenotype</td>\n",
       "      <td>I-Disease</td>\n",
       "      <td>1.126375</td>\n",
       "    </tr>\n",
       "    <tr>\n",
       "      <th>492</th>\n",
       "      <td>deficit</td>\n",
       "      <td>I-Disease_Pheno</td>\n",
       "      <td>I-Phenotype</td>\n",
       "      <td>I-Disease_Pheno</td>\n",
       "      <td>I-Phenotype</td>\n",
       "      <td>I-Disease</td>\n",
       "      <td>1.095748</td>\n",
       "    </tr>\n",
       "    <tr>\n",
       "      <th>493</th>\n",
       "      <td>dysphasia</td>\n",
       "      <td>I-Disease_Pheno</td>\n",
       "      <td>I-Phenotype</td>\n",
       "      <td>I-Disease_Pheno</td>\n",
       "      <td>I-Phenotype</td>\n",
       "      <td>I-Disease</td>\n",
       "      <td>1.110754</td>\n",
       "    </tr>\n",
       "    <tr>\n",
       "      <th>494</th>\n",
       "      <td>seizure</td>\n",
       "      <td>I-Disease</td>\n",
       "      <td>I-Disease_Pheno</td>\n",
       "      <td>I-Disease_Pheno</td>\n",
       "      <td>I-Phenotype</td>\n",
       "      <td>I-Disease</td>\n",
       "      <td>0.560079</td>\n",
       "    </tr>\n",
       "    <tr>\n",
       "      <th>495</th>\n",
       "      <td>neurosarcoidosis</td>\n",
       "      <td>I-Disease</td>\n",
       "      <td>I-Disease</td>\n",
       "      <td>I-Disease</td>\n",
       "      <td>I-Disease_Pheno</td>\n",
       "      <td>I-Disease</td>\n",
       "      <td>-0.428779</td>\n",
       "    </tr>\n",
       "    <tr>\n",
       "      <th>496</th>\n",
       "      <td>ischaemic</td>\n",
       "      <td>I-Disease_Pheno</td>\n",
       "      <td>I-Disease_Pheno</td>\n",
       "      <td>I-Phenotype</td>\n",
       "      <td>I-Phenotype</td>\n",
       "      <td>I-Disease</td>\n",
       "      <td>0.839989</td>\n",
       "    </tr>\n",
       "    <tr>\n",
       "      <th>497</th>\n",
       "      <td>neurological</td>\n",
       "      <td>I-Disease_Pheno</td>\n",
       "      <td>I-Disease_Pheno</td>\n",
       "      <td>I-Phenotype</td>\n",
       "      <td>I-Phenotype</td>\n",
       "      <td>I-Disease</td>\n",
       "      <td>0.830430</td>\n",
       "    </tr>\n",
       "    <tr>\n",
       "      <th>498</th>\n",
       "      <td>deficit</td>\n",
       "      <td>I-Disease_Pheno</td>\n",
       "      <td>I-Disease_Pheno</td>\n",
       "      <td>I-Phenotype</td>\n",
       "      <td>I-Phenotype</td>\n",
       "      <td>I-Disease</td>\n",
       "      <td>0.832686</td>\n",
       "    </tr>\n",
       "    <tr>\n",
       "      <th>499</th>\n",
       "      <td>insulinoma</td>\n",
       "      <td>I-Disease_Pheno</td>\n",
       "      <td>I-Disease</td>\n",
       "      <td>I-Disease_Pheno</td>\n",
       "      <td>I-Phenotype</td>\n",
       "      <td>I-Disease</td>\n",
       "      <td>0.502724</td>\n",
       "    </tr>\n",
       "    <tr>\n",
       "      <th>500</th>\n",
       "      <td>urethral</td>\n",
       "      <td>I-Disease</td>\n",
       "      <td>I-Disease</td>\n",
       "      <td>I-Disease_Pheno</td>\n",
       "      <td>I-Disease</td>\n",
       "      <td>I-Disease</td>\n",
       "      <td>-0.288347</td>\n",
       "    </tr>\n",
       "    <tr>\n",
       "      <th>501</th>\n",
       "      <td>strictures</td>\n",
       "      <td>I-Disease</td>\n",
       "      <td>I-Disease</td>\n",
       "      <td>I-Disease_Pheno</td>\n",
       "      <td>I-Disease</td>\n",
       "      <td>I-Disease</td>\n",
       "      <td>-0.307050</td>\n",
       "    </tr>\n",
       "    <tr>\n",
       "      <th>502</th>\n",
       "      <td>MS</td>\n",
       "      <td>I-Disease</td>\n",
       "      <td>I-Disease</td>\n",
       "      <td>I-Disease</td>\n",
       "      <td>I-Disease</td>\n",
       "      <td>I-Disease</td>\n",
       "      <td>-1.089292</td>\n",
       "    </tr>\n",
       "  </tbody>\n",
       "</table>\n",
       "<p>503 rows × 7 columns</p>\n",
       "</div>"
      ],
      "text/plain": [
       "                Token       Annotator1       Annotator2       Annotator3  \\\n",
       "0          Haematuria      I-Phenotype      I-Phenotype  I-Disease_Pheno   \n",
       "1           abdominal        I-Disease        I-Disease        I-Disease   \n",
       "2              aortic        I-Disease        I-Disease        I-Disease   \n",
       "3            aneurysm        I-Disease        I-Disease        I-Disease   \n",
       "4          Haematuria      I-Phenotype      I-Phenotype  I-Disease_Pheno   \n",
       "5                pain      I-Phenotype      I-Phenotype  I-Disease_Pheno   \n",
       "6           abdominal        I-Disease        I-Disease        I-Disease   \n",
       "7              aortic        I-Disease        I-Disease        I-Disease   \n",
       "8          Acanthosis        I-Disease  I-Disease_Pheno  I-Disease_Pheno   \n",
       "9           nigricans        I-Disease  I-Disease_Pheno  I-Disease_Pheno   \n",
       "10         Acanthosis        I-Disease  I-Disease_Pheno  I-Disease_Pheno   \n",
       "11          nigricans        I-Disease  I-Disease_Pheno  I-Disease_Pheno   \n",
       "12          fractured        I-Disease      I-Phenotype      I-Phenotype   \n",
       "13          phalanges        I-Disease      I-Phenotype      I-Phenotype   \n",
       "14          fractured        I-Disease      I-Phenotype      I-Phenotype   \n",
       "15          phalanges        I-Disease      I-Phenotype      I-Phenotype   \n",
       "16              Renal        I-Disease        I-Disease        I-Disease   \n",
       "17               cell        I-Disease        I-Disease        I-Disease   \n",
       "18          carcinoma        I-Disease        I-Disease        I-Disease   \n",
       "19         urothelial        I-Disease        I-Disease        I-Disease   \n",
       "20          carcinoma        I-Disease        I-Disease        I-Disease   \n",
       "21                non        I-Disease        I-Disease        I-Disease   \n",
       "22                  -        I-Disease        I-Disease        I-Disease   \n",
       "23            Hodgkin        I-Disease        I-Disease        I-Disease   \n",
       "24           lymphoma        I-Disease        I-Disease        I-Disease   \n",
       "25           lymphoma        I-Disease        I-Disease        I-Disease   \n",
       "26          hematuria  I-Disease_Pheno      I-Phenotype  I-Disease_Pheno   \n",
       "27              tumor  I-Disease_Pheno  I-Disease_Pheno  I-Disease_Pheno   \n",
       "28           enlarged      I-Phenotype      I-Phenotype      I-Phenotype   \n",
       "29              lymph      I-Phenotype      I-Phenotype      I-Phenotype   \n",
       "..                ...              ...              ...              ...   \n",
       "473      polycythemia  I-Disease_Pheno  I-Disease_Pheno  I-Disease_Pheno   \n",
       "474         infection  I-Disease_Pheno      I-Phenotype      I-Phenotype   \n",
       "475    thrombophilias  I-Disease_Pheno  I-Disease_Pheno      I-Phenotype   \n",
       "476          cerebral        I-Disease        I-Disease      I-Phenotype   \n",
       "477        infarction        I-Disease        I-Disease      I-Phenotype   \n",
       "478         placental        I-Disease        I-Disease      I-Phenotype   \n",
       "479     chorioangioma        I-Disease        I-Disease      I-Phenotype   \n",
       "480          numbness      I-Phenotype      I-Phenotype      I-Phenotype   \n",
       "481       bloatedness      I-Phenotype      I-Phenotype      I-Phenotype   \n",
       "482      neurological  I-Disease_Pheno      I-Phenotype  I-Disease_Pheno   \n",
       "483           deficit  I-Disease_Pheno      I-Phenotype  I-Disease_Pheno   \n",
       "484       sarcoidosis        I-Disease        I-Disease        I-Disease   \n",
       "485       Sarcoidosis        I-Disease        I-Disease        I-Disease   \n",
       "486            stroke        I-Disease        I-Disease        I-Disease   \n",
       "487             focal  I-Disease_Pheno      I-Phenotype  I-Disease_Pheno   \n",
       "488      neurological  I-Disease_Pheno      I-Phenotype  I-Disease_Pheno   \n",
       "489           deficit  I-Disease_Pheno      I-Phenotype  I-Disease_Pheno   \n",
       "490             focal  I-Disease_Pheno      I-Phenotype  I-Disease_Pheno   \n",
       "491      neurological  I-Disease_Pheno      I-Phenotype  I-Disease_Pheno   \n",
       "492           deficit  I-Disease_Pheno      I-Phenotype  I-Disease_Pheno   \n",
       "493         dysphasia  I-Disease_Pheno      I-Phenotype  I-Disease_Pheno   \n",
       "494           seizure        I-Disease  I-Disease_Pheno  I-Disease_Pheno   \n",
       "495  neurosarcoidosis        I-Disease        I-Disease        I-Disease   \n",
       "496         ischaemic  I-Disease_Pheno  I-Disease_Pheno      I-Phenotype   \n",
       "497      neurological  I-Disease_Pheno  I-Disease_Pheno      I-Phenotype   \n",
       "498           deficit  I-Disease_Pheno  I-Disease_Pheno      I-Phenotype   \n",
       "499        insulinoma  I-Disease_Pheno        I-Disease  I-Disease_Pheno   \n",
       "500          urethral        I-Disease        I-Disease  I-Disease_Pheno   \n",
       "501        strictures        I-Disease        I-Disease  I-Disease_Pheno   \n",
       "502                MS        I-Disease        I-Disease        I-Disease   \n",
       "\n",
       "          Annotator4       Annotator5         0  \n",
       "0        I-Phenotype  I-Disease_Pheno  1.588087  \n",
       "1    I-Disease_Pheno        I-Disease -0.498895  \n",
       "2    I-Disease_Pheno        I-Disease -0.436255  \n",
       "3    I-Disease_Pheno        I-Disease -0.392996  \n",
       "4        I-Phenotype  I-Disease_Pheno  1.557895  \n",
       "5        I-Phenotype      I-Phenotype  1.660037  \n",
       "6    I-Disease_Pheno        I-Disease -0.432832  \n",
       "7    I-Disease_Pheno        I-Disease -0.360766  \n",
       "8    I-Disease_Pheno        I-Disease  0.354537  \n",
       "9    I-Disease_Pheno        I-Disease  0.322725  \n",
       "10   I-Disease_Pheno        I-Disease  0.327778  \n",
       "11   I-Disease_Pheno        I-Disease  0.347600  \n",
       "12         I-Disease        I-Disease  0.595959  \n",
       "13         I-Disease        I-Disease  0.620284  \n",
       "14         I-Disease        I-Disease  0.617877  \n",
       "15         I-Disease        I-Disease  0.598854  \n",
       "16   I-Disease_Pheno        I-Disease -0.452345  \n",
       "17   I-Disease_Pheno        I-Disease -0.404145  \n",
       "18   I-Disease_Pheno        I-Disease -0.411344  \n",
       "19   I-Disease_Pheno        I-Disease -0.479570  \n",
       "20   I-Disease_Pheno        I-Disease -0.359101  \n",
       "21         I-Disease        I-Disease -1.007866  \n",
       "22         I-Disease        I-Disease -0.958816  \n",
       "23         I-Disease        I-Disease -1.037512  \n",
       "24         I-Disease        I-Disease -0.868380  \n",
       "25   I-Disease_Pheno        I-Disease -0.436309  \n",
       "26       I-Phenotype  I-Disease_Pheno  1.288526  \n",
       "27   I-Disease_Pheno        I-Disease  0.512788  \n",
       "28       I-Phenotype      I-Phenotype  2.073220  \n",
       "29       I-Phenotype      I-Phenotype  2.016877  \n",
       "..               ...              ...       ...  \n",
       "473        I-Disease        I-Disease  0.424215  \n",
       "474      I-Phenotype        I-Disease  1.267484  \n",
       "475      I-Phenotype        I-Disease  0.828237  \n",
       "476      I-Phenotype        I-Disease  0.435838  \n",
       "477      I-Phenotype        I-Disease  0.431678  \n",
       "478        I-Disease        I-Disease -0.012235  \n",
       "479        I-Disease        I-Disease -0.037872  \n",
       "480      I-Phenotype  I-Disease_Pheno  1.910456  \n",
       "481      I-Phenotype      I-Phenotype  2.235566  \n",
       "482      I-Phenotype        I-Disease  1.127145  \n",
       "483      I-Phenotype        I-Disease  1.081266  \n",
       "484  I-Disease_Pheno        I-Disease -0.483519  \n",
       "485  I-Disease_Pheno        I-Disease -0.503602  \n",
       "486      I-Phenotype        I-Disease  0.164407  \n",
       "487      I-Phenotype        I-Disease  1.126920  \n",
       "488      I-Phenotype        I-Disease  1.102150  \n",
       "489      I-Phenotype        I-Disease  1.122803  \n",
       "490      I-Phenotype        I-Disease  1.122338  \n",
       "491      I-Phenotype        I-Disease  1.126375  \n",
       "492      I-Phenotype        I-Disease  1.095748  \n",
       "493      I-Phenotype        I-Disease  1.110754  \n",
       "494      I-Phenotype        I-Disease  0.560079  \n",
       "495  I-Disease_Pheno        I-Disease -0.428779  \n",
       "496      I-Phenotype        I-Disease  0.839989  \n",
       "497      I-Phenotype        I-Disease  0.830430  \n",
       "498      I-Phenotype        I-Disease  0.832686  \n",
       "499      I-Phenotype        I-Disease  0.502724  \n",
       "500        I-Disease        I-Disease -0.288347  \n",
       "501        I-Disease        I-Disease -0.307050  \n",
       "502        I-Disease        I-Disease -1.089292  \n",
       "\n",
       "[503 rows x 7 columns]"
      ]
     },
     "execution_count": 382,
     "metadata": {},
     "output_type": "execute_result"
    }
   ],
   "source": [
    "pos = pd.DataFrame()\n",
    "pos = pd.concat([pos, relevant_annotations[['Token', 'Annotator1', 'Annotator2', 'Annotator3', 'Annotator4', 'Annotator5']]])\n",
    "pos = pd.concat([pos, pd.Series(avg_values['theta'])], axis=1)\n",
    "pos"
   ]
  },
  {
   "cell_type": "code",
   "execution_count": 383,
   "metadata": {},
   "outputs": [],
   "source": [
    "def plot_thetas(pos_annos, annotator):\n",
    "    pos_annos['zeros'] = 0\n",
    "    ax = sns.scatterplot(x=0, y=\"zeros\", hue=annotator, data=pos_annos, hue_order=['I-Disease', 'I-Disease_Pheno', 'I-Phenotype'])"
   ]
  },
  {
   "cell_type": "code",
   "execution_count": 384,
   "metadata": {},
   "outputs": [
    {
     "data": {
      "image/png": "[encoded data removed]",
      "text/plain": [
       "<Figure size 432x288 with 1 Axes>"
      ]
     },
     "metadata": {
      "needs_background": "light"
     },
     "output_type": "display_data"
    }
   ],
   "source": [
    "plot_thetas(pos, 'Annotator1')"
   ]
  },
  {
   "cell_type": "code",
   "execution_count": 385,
   "metadata": {},
   "outputs": [
    {
     "data": {
      "image/png": "[encoded data removed]",
      "text/plain": [
       "<Figure size 432x288 with 1 Axes>"
      ]
     },
     "metadata": {
      "needs_background": "light"
     },
     "output_type": "display_data"
    }
   ],
   "source": [
    "plot_thetas(pos, 'Annotator2')"
   ]
  },
  {
   "cell_type": "code",
   "execution_count": 386,
   "metadata": {},
   "outputs": [
    {
     "data": {
      "image/png": "[encoded data removed]",
      "text/plain": [
       "<Figure size 432x288 with 1 Axes>"
      ]
     },
     "metadata": {
      "needs_background": "light"
     },
     "output_type": "display_data"
    }
   ],
   "source": [
    "plot_thetas(pos, 'Annotator3')"
   ]
  },
  {
   "cell_type": "code",
   "execution_count": 387,
   "metadata": {},
   "outputs": [
    {
     "data": {
      "image/png": "[encoded data removed]",
      "text/plain": [
       "<Figure size 432x288 with 1 Axes>"
      ]
     },
     "metadata": {
      "needs_background": "light"
     },
     "output_type": "display_data"
    }
   ],
   "source": [
    "plot_thetas(pos, 'Annotator4')"
   ]
  },
  {
   "cell_type": "code",
   "execution_count": 388,
   "metadata": {},
   "outputs": [
    {
     "data": {
      "image/png": "[encoded data removed]",
      "text/plain": [
       "<Figure size 432x288 with 1 Axes>"
      ]
     },
     "metadata": {
      "needs_background": "light"
     },
     "output_type": "display_data"
    }
   ],
   "source": [
    "plot_thetas(pos, 'Annotator5')"
   ]
  },
  {
   "cell_type": "code",
   "execution_count": 441,
   "metadata": {},
   "outputs": [],
   "source": [
    "xda, xdr = get_annotator_bias(avg_values['d_alpha'], avg_values['d_beta'])"
   ]
  },
  {
   "cell_type": "code",
   "execution_count": 442,
   "metadata": {},
   "outputs": [],
   "source": [
    "xpa, xpr = get_annotator_bias(avg_values['p_alpha'], avg_values['p_beta'])"
   ]
  },
  {
   "cell_type": "code",
   "execution_count": 443,
   "metadata": {},
   "outputs": [
    {
     "data": {
      "text/plain": [
       "array([-0.72339372, -1.55368133, -0.55397658, -1.16727161, -0.29255616])"
      ]
     },
     "execution_count": 443,
     "metadata": {},
     "output_type": "execute_result"
    }
   ],
   "source": [
    "xda - xdr"
   ]
  },
  {
   "cell_type": "code",
   "execution_count": 444,
   "metadata": {},
   "outputs": [
    {
     "data": {
      "text/plain": [
       "array([0.98247736, 1.28594693, 0.75284286, 0.62350741, 0.42932204])"
      ]
     },
     "execution_count": 444,
     "metadata": {},
     "output_type": "execute_result"
    }
   ],
   "source": [
    "xpa - xpr"
   ]
  },
  {
   "cell_type": "code",
   "execution_count": 445,
   "metadata": {},
   "outputs": [
    {
     "data": {
      "text/plain": [
       "array([1.46084359, 0.75793642, 1.19955202, 0.52902809, 2.66454963])"
      ]
     },
     "execution_count": 445,
     "metadata": {},
     "output_type": "execute_result"
    }
   ],
   "source": [
    "(xda + xdr)/2"
   ]
  },
  {
   "cell_type": "code",
   "execution_count": 446,
   "metadata": {},
   "outputs": [
    {
     "data": {
      "text/plain": [
       "array([ 0.59159189,  0.52044635,  0.19334959, -0.27568196,  1.77334668])"
      ]
     },
     "execution_count": 446,
     "metadata": {},
     "output_type": "execute_result"
    }
   ],
   "source": [
    "(xpa + xpr)/2"
   ]
  },
  {
   "cell_type": "code",
   "execution_count": 447,
   "metadata": {},
   "outputs": [],
   "source": [
    "loc_pd = pd.DataFrame()\n",
    "#loc_pd['Val'] = [\"xda\", \"xdr\", \"xpa\", \"xpr\"]\n",
    "#\n",
    "#for i in range(5):\n",
    "#    loc_pd['Annotator{}'.format(i+1)] = [xda[i], xdr[i], xpa[i], xpr[i]]\n",
    "\n",
    "#loc_pd.index = [\"xda\", \"xdr\", \"xpa\", \"xpr\"]\n",
    "loc_pd['xda'] = xda\n",
    "loc_pd['xdr'] = xdr\n",
    "loc_pd['xpa'] = xpa\n",
    "loc_pd['xpr'] = xpr\n",
    "loc_pd['annotator'] = ['Annotator{}'.format(i+1) for i in range(5)]\n",
    "#ax = sns.scatterplot(x=0, y=\"zeros\", data=dis_loc_pd)"
   ]
  },
  {
   "cell_type": "code",
   "execution_count": 448,
   "metadata": {},
   "outputs": [
    {
     "data": {
      "text/html": [
       "<div>\n",
       "<style scoped>\n",
       "    .dataframe tbody tr th:only-of-type {\n",
       "        vertical-align: middle;\n",
       "    }\n",
       "\n",
       "    .dataframe tbody tr th {\n",
       "        vertical-align: top;\n",
       "    }\n",
       "\n",
       "    .dataframe thead th {\n",
       "        text-align: right;\n",
       "    }\n",
       "</style>\n",
       "<table border=\"1\" class=\"dataframe\">\n",
       "  <thead>\n",
       "    <tr style=\"text-align: right;\">\n",
       "      <th></th>\n",
       "      <th>xda</th>\n",
       "      <th>xdr</th>\n",
       "      <th>xpa</th>\n",
       "      <th>xpr</th>\n",
       "      <th>annotator</th>\n",
       "    </tr>\n",
       "  </thead>\n",
       "  <tbody>\n",
       "    <tr>\n",
       "      <th>0</th>\n",
       "      <td>1.099147</td>\n",
       "      <td>1.822540</td>\n",
       "      <td>1.082831</td>\n",
       "      <td>0.100353</td>\n",
       "      <td>Annotator1</td>\n",
       "    </tr>\n",
       "    <tr>\n",
       "      <th>1</th>\n",
       "      <td>-0.018904</td>\n",
       "      <td>1.534777</td>\n",
       "      <td>1.163420</td>\n",
       "      <td>-0.122527</td>\n",
       "      <td>Annotator2</td>\n",
       "    </tr>\n",
       "    <tr>\n",
       "      <th>2</th>\n",
       "      <td>0.922564</td>\n",
       "      <td>1.476540</td>\n",
       "      <td>0.569771</td>\n",
       "      <td>-0.183072</td>\n",
       "      <td>Annotator3</td>\n",
       "    </tr>\n",
       "    <tr>\n",
       "      <th>3</th>\n",
       "      <td>-0.054608</td>\n",
       "      <td>1.112664</td>\n",
       "      <td>0.036072</td>\n",
       "      <td>-0.587436</td>\n",
       "      <td>Annotator4</td>\n",
       "    </tr>\n",
       "    <tr>\n",
       "      <th>4</th>\n",
       "      <td>2.518272</td>\n",
       "      <td>2.810828</td>\n",
       "      <td>1.988008</td>\n",
       "      <td>1.558686</td>\n",
       "      <td>Annotator5</td>\n",
       "    </tr>\n",
       "  </tbody>\n",
       "</table>\n",
       "</div>"
      ],
      "text/plain": [
       "        xda       xdr       xpa       xpr   annotator\n",
       "0  1.099147  1.822540  1.082831  0.100353  Annotator1\n",
       "1 -0.018904  1.534777  1.163420 -0.122527  Annotator2\n",
       "2  0.922564  1.476540  0.569771 -0.183072  Annotator3\n",
       "3 -0.054608  1.112664  0.036072 -0.587436  Annotator4\n",
       "4  2.518272  2.810828  1.988008  1.558686  Annotator5"
      ]
     },
     "execution_count": 448,
     "metadata": {},
     "output_type": "execute_result"
    }
   ],
   "source": [
    "loc_pd"
   ]
  },
  {
   "cell_type": "code",
   "execution_count": 449,
   "metadata": {},
   "outputs": [
    {
     "name": "stdout",
     "output_type": "stream",
     "text": [
      "    annotator measurement     value\n",
      "0  Annotator1         xda  1.099147\n",
      "1  Annotator2         xda -0.018904\n",
      "2  Annotator3         xda  0.922564\n",
      "3  Annotator4         xda -0.054608\n",
      "4  Annotator5         xda  2.518272\n",
      "5  Annotator1         xdr  1.822540\n",
      "6  Annotator2         xdr  1.534777\n",
      "7  Annotator3         xdr  1.476540\n",
      "8  Annotator4         xdr  1.112664\n",
      "9  Annotator5         xdr  2.810828\n",
      "\n",
      "    annotator measurement     value\n",
      "0  Annotator1         xpa  1.082831\n",
      "1  Annotator2         xpa  1.163420\n",
      "2  Annotator3         xpa  0.569771\n",
      "3  Annotator4         xpa  0.036072\n",
      "4  Annotator5         xpa  1.988008\n",
      "5  Annotator1         xpr  0.100353\n",
      "6  Annotator2         xpr -0.122527\n",
      "7  Annotator3         xpr -0.183072\n",
      "8  Annotator4         xpr -0.587436\n",
      "9  Annotator5         xpr  1.558686\n"
     ]
    },
    {
     "data": {
      "text/plain": [
       "<matplotlib.legend.Legend at 0x7efe817322d0>"
      ]
     },
     "execution_count": 449,
     "metadata": {},
     "output_type": "execute_result"
    },
    {
     "data": {
      "image/png": "[encoded data removed]",
      "text/plain": [
       "<Figure size 432x288 with 1 Axes>"
      ]
     },
     "metadata": {},
     "output_type": "display_data"
    }
   ],
   "source": [
    "'''\n",
    "loc_pd = pd.DataFrame()\n",
    "#loc_pd['disease'] = (xda + xdr)/2\n",
    "#loc_pd['phenotype'] = (xpa + xpr)/2\n",
    "loc_pd['disease'] = xda\n",
    "loc_pd['phenotype'] = xpa\n",
    "loc_pd['annotator'] = ['Annotator{}'.format(i+1) for i in range(5)]\n",
    "'''\n",
    "dis_pd = pd.DataFrame()\n",
    "dis_pd['xda'] = xda\n",
    "dis_pd['xdr'] = xdr\n",
    "dis_pd['annotator'] = ['Annotator{}'.format(i+1) for i in range(5)]\n",
    "\n",
    "phe_pd = pd.DataFrame()\n",
    "phe_pd['xpa'] = xpa\n",
    "phe_pd['xpr'] = xpr\n",
    "phe_pd['annotator'] = ['Annotator{}'.format(i+1) for i in range(5)]\n",
    "#'''\n",
    "\n",
    "sns.set(style=\"whitegrid\")\n",
    "\n",
    "dis_pd = pd.melt(dis_pd, \"annotator\", var_name=\"measurement\")\n",
    "phe_pd = pd.melt(phe_pd, \"annotator\", var_name=\"measurement\")\n",
    "\n",
    "print(dis_pd)\n",
    "print\n",
    "print(phe_pd)\n",
    "\n",
    "f, ax = plt.subplots()\n",
    "sns.despine(bottom=True, left=True)\n",
    "\n",
    "sns.pointplot(x=\"value\", y=\"annotator\", hue=\"measurement\",\n",
    "              data=dis_pd, dodge=0, join=False,\n",
    "              markers=\"o\", scale=1, ci=None)\n",
    "\n",
    "sns.pointplot(x=\"value\", y=\"annotator\", hue=\"measurement\",\n",
    "              data=phe_pd, dodge=0, join=False,\n",
    "              markers=\"x\", scale=1, ci=None)\n",
    "\n",
    "plt.legend(bbox_to_anchor=(1.05, 1), loc=2, borderaxespad=0.)\n"
   ]
  },
  {
   "cell_type": "code",
   "execution_count": 399,
   "metadata": {},
   "outputs": [
    {
     "data": {
      "text/plain": [
       "array([0.8692517 , 0.23749007, 1.00620243, 0.80471005, 0.89120295])"
      ]
     },
     "execution_count": 399,
     "metadata": {},
     "output_type": "execute_result"
    }
   ],
   "source": [
    "dis_loc = (xda + xdr)/2\n",
    "phe_loc = (xpa + xpr)/2\n",
    "\n",
    "phe_loc - dis_loc"
   ]
  },
  {
   "cell_type": "code",
   "execution_count": 18,
   "metadata": {},
   "outputs": [],
   "source": [
    "def count_relevant_stats(relevant_annotations, annotator, label):\n",
    "    return relevant_annotations[relevant_annotations[annotator] == label][annotator].count()"
   ]
  },
  {
   "cell_type": "code",
   "execution_count": 27,
   "metadata": {},
   "outputs": [],
   "source": [
    "def get_relevant_stats(relevant_annotations, annotator):\n",
    "    print 'Statistics for {}'.format(annotator)\n",
    "    print 'Percentage of Disease labels: {}'.format(count_relevant_stats(relevant_annotations, annotator, 'I-Disease')/503.0)\n",
    "    print 'Percentage of Phenotype labels: {}'.format(count_relevant_stats(relevant_annotations, annotator, 'I-Phenotype')/503.0)\n",
    "    print 'Percentage of both labels: {}'.format(count_relevant_stats(relevant_annotations, annotator, 'I-Disease_Pheno')/503.0)"
   ]
  },
  {
   "cell_type": "code",
   "execution_count": 28,
   "metadata": {},
   "outputs": [
    {
     "name": "stdout",
     "output_type": "stream",
     "text": [
      "Statistics for Annotator1\n",
      "Percentage of Disease labels: 0.719681908549\n",
      "Percentage of Phenotype labels: 0.111332007952\n",
      "Percentage of both labels: 0.168986083499\n"
     ]
    }
   ],
   "source": [
    "get_relevant_stats(relevant_annotations, 'Annotator1')"
   ]
  },
  {
   "cell_type": "code",
   "execution_count": 29,
   "metadata": {},
   "outputs": [
    {
     "name": "stdout",
     "output_type": "stream",
     "text": [
      "Statistics for Annotator2\n",
      "Percentage of Disease labels: 0.709741550696\n",
      "Percentage of Phenotype labels: 0.220675944334\n",
      "Percentage of both labels: 0.0695825049702\n"
     ]
    }
   ],
   "source": [
    "get_relevant_stats(relevant_annotations, 'Annotator2')"
   ]
  },
  {
   "cell_type": "code",
   "execution_count": 30,
   "metadata": {},
   "outputs": [
    {
     "name": "stdout",
     "output_type": "stream",
     "text": [
      "Statistics for Annotator3\n",
      "Percentage of Disease labels: 0.580516898608\n",
      "Percentage of Phenotype labels: 0.180914512922\n",
      "Percentage of both labels: 0.238568588469\n"
     ]
    }
   ],
   "source": [
    "get_relevant_stats(relevant_annotations, 'Annotator3')"
   ]
  },
  {
   "cell_type": "code",
   "execution_count": 31,
   "metadata": {},
   "outputs": [
    {
     "name": "stdout",
     "output_type": "stream",
     "text": [
      "Statistics for Annotator4\n",
      "Percentage of Disease labels: 0.433399602386\n",
      "Percentage of Phenotype labels: 0.294234592445\n",
      "Percentage of both labels: 0.272365805169\n"
     ]
    }
   ],
   "source": [
    "get_relevant_stats(relevant_annotations, 'Annotator4')"
   ]
  },
  {
   "cell_type": "code",
   "execution_count": 32,
   "metadata": {},
   "outputs": [
    {
     "name": "stdout",
     "output_type": "stream",
     "text": [
      "Statistics for Annotator5\n",
      "Percentage of Disease labels: 0.880715705765\n",
      "Percentage of Phenotype labels: 0.0874751491054\n",
      "Percentage of both labels: 0.0318091451292\n"
     ]
    }
   ],
   "source": [
    "get_relevant_stats(relevant_annotations, 'Annotator5')"
   ]
  },
  {
   "cell_type": "code",
   "execution_count": null,
   "metadata": {},
   "outputs": [],
   "source": []
  }
 ],
 "metadata": {
  "kernelspec": {
   "display_name": "Python 2",
   "language": "python",
   "name": "python2"
  },
  "language_info": {
   "codemirror_mode": {
    "name": "ipython",
    "version": 2
   },
   "file_extension": ".py",
   "mimetype": "text/x-python",
   "name": "python",
   "nbconvert_exporter": "python",
   "pygments_lexer": "ipython2",
   "version": "2.7.15"
  }
 },
 "nbformat": 4,
 "nbformat_minor": 2
}
