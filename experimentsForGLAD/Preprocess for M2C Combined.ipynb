{
 "cells": [
  {
   "cell_type": "markdown",
   "metadata": {},
   "source": [
    "## The required format for the GLAD program is:\n",
    "```\n",
    "First line:\n",
    "    <numGivenLabels> <numLabelers> <numTasks> <Prior p(Z=1)>\n",
    "  Following <numGivenLabels> lines:\n",
    "    <taskId> <labelerId> <label:0|1>\n",
    "```\n",
    "0: Not a Disease (Includes \"Phenotype\")\n",
    "<br>\n",
    "1: Disease<br>\n",
    "2: Phenotype<br>\n",
    "3: Both\n",
    "\n",
    "I think task refers to the word in the dataset, and then labeler ID and the label. So if we have 20000 words in M2C and 5 label, the output of this program should have 100000 lines.\n",
    "\n",
    "### TODO: Disease and Phenotype M2C datasets do not have \"both\" label in them. Pre process them to allow for both!"
   ]
  },
  {
   "cell_type": "code",
   "execution_count": 36,
   "metadata": {},
   "outputs": [],
   "source": [
    "dataset_folder = 'dataset/Mark2Cure_NER_dataset/'"
   ]
  },
  {
   "cell_type": "code",
   "execution_count": 37,
   "metadata": {},
   "outputs": [],
   "source": [
    "citizens = ['1', '2', '3', '4', '5']"
   ]
  },
  {
   "cell_type": "code",
   "execution_count": 38,
   "metadata": {},
   "outputs": [],
   "source": [
    "filename = 'M2C{}-Disease_Phen_Preliminary_Run_1st_pass.txt'"
   ]
  },
  {
   "cell_type": "code",
   "execution_count": 39,
   "metadata": {},
   "outputs": [],
   "source": [
    "text = ''"
   ]
  },
  {
   "cell_type": "code",
   "execution_count": 74,
   "metadata": {},
   "outputs": [],
   "source": [
    "## Make vocab\n",
    "vocab = {}\n",
    "reverse_vocab = {}\n",
    "i = 0\n",
    "total_lines = 0\n",
    "\n",
    "for citizen in citizens:\n",
    "    path = dataset_folder + filename.format(citizen)\n",
    "    with open(path) as f:\n",
    "        lines = f.read().split('\\n')\n",
    "        for line in lines:\n",
    "            if line and line.split()[3] != 'O':\n",
    "                total_lines += 1\n",
    "                word = line.split()[0]\n",
    "                if word.lower() not in vocab:\n",
    "                    vocab[word.lower()] = i\n",
    "                    reverse_vocab[i] = word.lower()\n",
    "                    i += 1"
   ]
  },
  {
   "cell_type": "code",
   "execution_count": 75,
   "metadata": {},
   "outputs": [
    {
     "data": {
      "text/plain": [
       "1279"
      ]
     },
     "execution_count": 75,
     "metadata": {},
     "output_type": "execute_result"
    }
   ],
   "source": [
    "len(vocab)"
   ]
  },
  {
   "cell_type": "code",
   "execution_count": 76,
   "metadata": {},
   "outputs": [],
   "source": [
    "# make 5 arrays of text\n",
    "annotations = []\n",
    "for citizen in citizens:\n",
    "    path = dataset_folder + filename.format(citizen)\n",
    "    with open(path) as f:\n",
    "        lines = f.read().split('\\n')\n",
    "        annotations.append(lines)"
   ]
  },
  {
   "cell_type": "code",
   "execution_count": 77,
   "metadata": {},
   "outputs": [],
   "source": [
    "text = '{} {} {} {} {} {} {}\\n'.format(len(vocab)*len(annotations), len(annotations), len(vocab), 3, 0.33, 0.33, 0.34)"
   ]
  },
  {
   "cell_type": "code",
   "execution_count": 78,
   "metadata": {},
   "outputs": [
    {
     "data": {
      "text/plain": [
       "(5, 11894)"
      ]
     },
     "execution_count": 78,
     "metadata": {},
     "output_type": "execute_result"
    }
   ],
   "source": [
    "len(annotations), total_lines"
   ]
  },
  {
   "cell_type": "code",
   "execution_count": 80,
   "metadata": {},
   "outputs": [],
   "source": [
    "record = dict()\n",
    "task_arr = []\n",
    "some_counter = 0\n",
    "text = ''\n",
    "for line in range(total_lines):\n",
    "    for annotator in range(len(annotations)):\n",
    "        try:\n",
    "            current_line = annotations[annotator][line].split()\n",
    "        except:\n",
    "            continue\n",
    "        if len(current_line) != 4:\n",
    "            continue\n",
    "        word = current_line[0].lower()\n",
    "        if word == 1294:\n",
    "            continue\n",
    "        annotation = current_line[3]\n",
    "        count = record.get(word, 0)\n",
    "        if count < len(annotations):\n",
    "            if annotation == \"O\":\n",
    "                continue\n",
    "            elif annotation == \"I-Disease\":\n",
    "                label = '0'\n",
    "            elif annotation == \"I-Phenotype\":\n",
    "                label = '1'\n",
    "            else:\n",
    "                label = '2'\n",
    "            some_counter += 1\n",
    "            if word not in task_arr:\n",
    "                task_arr.append(word)\n",
    "            text = text + '{} {} {}\\n'.format(vocab[word], annotator, label)\n",
    "            record[word] = count + 1"
   ]
  },
  {
   "cell_type": "code",
   "execution_count": 81,
   "metadata": {},
   "outputs": [],
   "source": [
    "text = '{} {} {} {} {} {} {}\\n'.format(some_counter, len(annotations), len(task_arr), 3, 0.33, 0.33, 0.34) + text\n",
    "with open('data_combined.txt', 'w') as f:\n",
    "    f.write(text)"
   ]
  },
  {
   "cell_type": "markdown",
   "metadata": {},
   "source": [
    "## The following code is to convert the alpha, beta and label csv to readable formats AFTER we run GLAD\n",
    "\n",
    "### Make sure you have the proper files in the proper folder before running these hacky snippets"
   ]
  },
  {
   "cell_type": "code",
   "execution_count": 82,
   "metadata": {},
   "outputs": [],
   "source": [
    "results_folder = 'Results For Combined Without O/'\n",
    "files = ['beta.csv', 'label.csv']"
   ]
  },
  {
   "cell_type": "code",
   "execution_count": 87,
   "metadata": {},
   "outputs": [],
   "source": [
    "text = 'Word,Beta\\n'\n",
    "with open(results_folder+'beta.csv', 'r') as f:\n",
    "    lines = f.readlines()\n",
    "    for line in lines:\n",
    "        if line:\n",
    "            arr = line.split(',')\n",
    "            num = arr[0]\n",
    "            if num == '# id':\n",
    "                continue\n",
    "            text += '{},{}'.format(reverse_vocab[int(num)-1], arr[1])\n",
    "with open(results_folder+'beta_new_combined_without_O.csv','w') as g:\n",
    "    g.write(text)"
   ]
  },
  {
   "cell_type": "code",
   "execution_count": 88,
   "metadata": {},
   "outputs": [],
   "source": [
    "text = 'Word,Disease,Phenotype,Both\\n'\n",
    "with open(results_folder+'label.csv', 'r') as f:\n",
    "    lines = f.readlines()\n",
    "    for line in lines:\n",
    "        if line:\n",
    "            arr = line.split(',')\n",
    "            num = arr[0]\n",
    "            if num == '# id':\n",
    "                continue\n",
    "            word = reverse_vocab[int(num)-1]\n",
    "            if num == '1294':\n",
    "                continue\n",
    "            text += '{},{},{},{}'.format(reverse_vocab[int(num)-1], arr[1], arr[2], arr[3])\n",
    "with open(results_folder+'label_new_combined_without_O.csv','w') as g:\n",
    "    g.write(text)"
   ]
  },
  {
   "cell_type": "code",
   "execution_count": 51,
   "metadata": {},
   "outputs": [
    {
     "ename": "KeyError",
     "evalue": "'1294'",
     "output_type": "error",
     "traceback": [
      "\u001b[0;31m---------------------------------------------------------------------------\u001b[0m",
      "\u001b[0;31mKeyError\u001b[0m                                  Traceback (most recent call last)",
      "\u001b[0;32m<ipython-input-51-5f490e3ec6a7>\u001b[0m in \u001b[0;36m<module>\u001b[0;34m()\u001b[0m\n\u001b[0;32m----> 1\u001b[0;31m \u001b[0mvocab\u001b[0m\u001b[0;34m[\u001b[0m\u001b[0;34m'1294'\u001b[0m\u001b[0;34m]\u001b[0m\u001b[0;34m\u001b[0m\u001b[0m\n\u001b[0m",
      "\u001b[0;31mKeyError\u001b[0m: '1294'"
     ]
    }
   ],
   "source": [
    "vocab['1294']"
   ]
  },
  {
   "cell_type": "code",
   "execution_count": null,
   "metadata": {},
   "outputs": [],
   "source": []
  }
 ],
 "metadata": {
  "kernelspec": {
   "display_name": "Python 2",
   "language": "python",
   "name": "python2"
  },
  "language_info": {
   "codemirror_mode": {
    "name": "ipython",
    "version": 2
   },
   "file_extension": ".py",
   "mimetype": "text/x-python",
   "name": "python",
   "nbconvert_exporter": "python",
   "pygments_lexer": "ipython2",
   "version": "2.7.15"
  }
 },
 "nbformat": 4,
 "nbformat_minor": 2
}
