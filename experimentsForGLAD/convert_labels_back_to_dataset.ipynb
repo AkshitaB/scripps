{
 "cells": [
  {
   "cell_type": "markdown",
   "metadata": {},
   "source": [
    "### README\n",
    "This script is used to convert the true labels obtained via GLAD back to a format that can be readable by dilated cnn ner. The only hyperparameter is the threshold value which needs to be set each time. I will change this notebook to a script so I can directly run it on gypsum to make new datsets with different hyperparameters."
   ]
  },
  {
   "cell_type": "code",
   "execution_count": 14,
   "metadata": {},
   "outputs": [],
   "source": [
    "import sys"
   ]
  },
  {
   "cell_type": "code",
   "execution_count": 16,
   "metadata": {},
   "outputs": [],
   "source": [
    "threshold = float(sys.argv[1]) # any P above this will be set to 1\n",
    "# threshold = 0.1\n",
    "labels = ['O', 'I-Phenotype']"
   ]
  },
  {
   "cell_type": "code",
   "execution_count": 17,
   "metadata": {},
   "outputs": [],
   "source": [
    "data_file = 'dataset/Mark2Cure_citizen_phenotype/M2C1-Disease_Phen_Preliminary_Run_1st_pass.txt' # don't care about the annotator"
   ]
  },
  {
   "cell_type": "code",
   "execution_count": 18,
   "metadata": {},
   "outputs": [],
   "source": [
    "label_file = 'Results/Results for word_idx/label_word_idx_independant.csv'"
   ]
  },
  {
   "cell_type": "code",
   "execution_count": 19,
   "metadata": {},
   "outputs": [],
   "source": [
    "corpus = ''\n",
    "with open(data_file) as f:\n",
    "    corpus = f.read().split('\\n')"
   ]
  },
  {
   "cell_type": "code",
   "execution_count": 20,
   "metadata": {},
   "outputs": [],
   "source": [
    "text = '' # the output of this script"
   ]
  },
  {
   "cell_type": "code",
   "execution_count": 21,
   "metadata": {},
   "outputs": [],
   "source": [
    "true_labels = ''\n",
    "with open(label_file) as f:\n",
    "    true_labels = f.read().split('\\n')\n",
    "\n",
    "# true_labels = true_labels[1:] #skip header"
   ]
  },
  {
   "cell_type": "code",
   "execution_count": 28,
   "metadata": {},
   "outputs": [],
   "source": [
    "# true_labels[0]"
   ]
  },
  {
   "cell_type": "code",
   "execution_count": 23,
   "metadata": {},
   "outputs": [],
   "source": [
    "vocab = {}\n",
    "for label in true_labels:\n",
    "    label = label.split('\\t')\n",
    "    try:\n",
    "        vocab[label[0]] = float(label[2])\n",
    "    except:\n",
    "        pass"
   ]
  },
  {
   "cell_type": "code",
   "execution_count": 26,
   "metadata": {},
   "outputs": [],
   "source": [
    "threshold = 0.1\n",
    "for i, line in enumerate(corpus):\n",
    "    try:\n",
    "        word = line.split()[0]\n",
    "        label = labels[vocab[word.lower()+'_{}'.format(i)] > threshold]\n",
    "        if i != len(corpus) - 1:\n",
    "            text = text + '{} {} {} {}\\n'.format(word, '?', '?', label)\n",
    "        else:\n",
    "            text = text + '{} {} {} {}'.format(word, '?', '?', label)\n",
    "    except:\n",
    "        pass"
   ]
  },
  {
   "cell_type": "code",
   "execution_count": 27,
   "metadata": {},
   "outputs": [],
   "source": [
    "with open('ready_dataset.txt', 'w') as f:\n",
    "    f.write(text)"
   ]
  }
 ],
 "metadata": {
  "kernelspec": {
   "display_name": "Python 2",
   "language": "python",
   "name": "python2"
  },
  "language_info": {
   "codemirror_mode": {
    "name": "ipython",
    "version": 3
   },
   "file_extension": ".py",
   "mimetype": "text/x-python",
   "name": "python",
   "nbconvert_exporter": "python",
   "pygments_lexer": "ipython3",
   "version": "3.6.7"
  }
 },
 "nbformat": 4,
 "nbformat_minor": 2
}
