{
 "cells": [
  {
   "cell_type": "code",
   "execution_count": 9,
   "metadata": {},
   "outputs": [],
   "source": [
    "import os\n",
    "import configparser\n",
    "\n",
    "import pandas as pd\n",
    "import numpy as np"
   ]
  },
  {
   "cell_type": "code",
   "execution_count": 2,
   "metadata": {},
   "outputs": [
    {
     "name": "stderr",
     "output_type": "stream",
     "text": [
      "/home/akshita/anaconda3/envs/scripps/lib/python2.7/site-packages/ipykernel_launcher.py:6: DeprecationWarning: You passed a bytestring as `filenames`. This will not work on Python 3. Use `cp.read_file()` or switch to using Unicode strings across the board.\n",
      "  \n"
     ]
    },
    {
     "data": {
      "text/plain": [
       "['../configurations/data.config']"
      ]
     },
     "execution_count": 2,
     "metadata": {},
     "output_type": "execute_result"
    }
   ],
   "source": [
    "#DATASET = '../../datasets'\n",
    "DATASET = '../dataset'\n",
    "CONFIGURATIONS = '../configurations'\n",
    "\n",
    "CF = configparser.ConfigParser()\n",
    "CF.read(os.path.join(CONFIGURATIONS, 'data.config'))"
   ]
  },
  {
   "cell_type": "code",
   "execution_count": 3,
   "metadata": {},
   "outputs": [],
   "source": [
    "def __load_path(path):\n",
    "    with open(path) as file_handle:\n",
    "        contents = file_handle.read()\n",
    "        lines = contents.split('\\n')\n",
    "        annos = []\n",
    "        for line in lines:\n",
    "            if line:\n",
    "                annos.append(line.split(' '))\n",
    "        data = pd.DataFrame(annos)\n",
    "    return data\n",
    "\n",
    "def load_dataset(dataset='disease', mode='train'):\n",
    "    assert dataset in ['disease', 'phenotype', 'm2c']\n",
    "    #assert mode in ['train', 'develop', 'test', 'files']\n",
    "    path = os.path.join(CF.get(dataset, 'path'), CF.get(dataset, mode))\n",
    "    data = __load_path(os.path.join(DATASET, path))\n",
    "    #data = pd.read_csv(os.path.join(DATASET, path), sep=' ', header=None) #misses some rows for some reason.\n",
    "    return data"
   ]
  },
  {
   "cell_type": "code",
   "execution_count": 4,
   "metadata": {},
   "outputs": [],
   "source": [
    "disease_train = load_dataset('disease', 'train')"
   ]
  },
  {
   "cell_type": "code",
   "execution_count": 6,
   "metadata": {},
   "outputs": [],
   "source": [
    "trunc = disease_train[[0, 3]].copy()"
   ]
  },
  {
   "cell_type": "code",
   "execution_count": 11,
   "metadata": {},
   "outputs": [],
   "source": [
    "trunc.to_csv?"
   ]
  },
  {
   "cell_type": "code",
   "execution_count": 12,
   "metadata": {},
   "outputs": [],
   "source": [
    "trunc.to_csv('/home/akshita/trunc_disease_train.txt', sep=' ', index=False, header=False)"
   ]
  },
  {
   "cell_type": "code",
   "execution_count": null,
   "metadata": {},
   "outputs": [],
   "source": []
  }
 ],
 "metadata": {
  "kernelspec": {
   "display_name": "Python 2",
   "language": "python",
   "name": "python2"
  },
  "language_info": {
   "codemirror_mode": {
    "name": "ipython",
    "version": 2
   },
   "file_extension": ".py",
   "mimetype": "text/x-python",
   "name": "python",
   "nbconvert_exporter": "python",
   "pygments_lexer": "ipython2",
   "version": "2.7.15"
  }
 },
 "nbformat": 4,
 "nbformat_minor": 2
}
