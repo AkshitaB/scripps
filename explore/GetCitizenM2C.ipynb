{
 "cells": [
  {
   "cell_type": "code",
   "execution_count": 19,
   "metadata": {},
   "outputs": [],
   "source": [
    "#Purpose of the notebook is to create 2 different M2C datasets, one for disease and one for phenotype.\n",
    "\n",
    "import os\n",
    "import configparser\n",
    "\n",
    "import pandas as pd"
   ]
  },
  {
   "cell_type": "code",
   "execution_count": 25,
   "metadata": {},
   "outputs": [
    {
     "name": "stderr",
     "output_type": "stream",
     "text": [
      "/home/akshita/anaconda3/envs/scripps/lib/python2.7/site-packages/ipykernel_launcher.py:5: DeprecationWarning: You passed a bytestring as `filenames`. This will not work on Python 3. Use `cp.read_file()` or switch to using Unicode strings across the board.\n",
      "  \"\"\"\n"
     ]
    },
    {
     "data": {
      "text/plain": [
       "['../configurations/data.config']"
      ]
     },
     "execution_count": 25,
     "metadata": {},
     "output_type": "execute_result"
    }
   ],
   "source": [
    "DATASET = '../dataset'\n",
    "CONFIGURATIONS = '../configurations'\n",
    "\n",
    "CF = configparser.ConfigParser()\n",
    "CF.read(os.path.join(CONFIGURATIONS, 'data.config'))"
   ]
  },
  {
   "cell_type": "code",
   "execution_count": 27,
   "metadata": {},
   "outputs": [],
   "source": [
    "def __load_path(path):\n",
    "    with open(path) as file_handle:\n",
    "        contents = file_handle.read()\n",
    "        lines = contents.split('\\n')\n",
    "        annos = []\n",
    "        for line in lines:\n",
    "            if line:\n",
    "                annos.append(line.split(' '))\n",
    "        data = pd.DataFrame(annos)\n",
    "    return data\n",
    "\n",
    "def __get_path(dataset, mode):\n",
    "    assert dataset in ['disease', 'phenotype', 'm2c', 'm2c_citizen_disease', \\\n",
    "                       'm2c_citizen_phenotype', 'm2c_expert_disease', 'm2c_expert_phenotype']\n",
    "    path = os.path.join(CF.get(dataset, 'path'), CF.get(dataset, mode))\n",
    "    return os.path.join(DATASET, path)\n",
    "\n",
    "def load_dataset(dataset='disease', mode='train'):\n",
    "    data = __load_path(__get_path(dataset, mode))\n",
    "    #data = pd.read_csv(os.path.join(DATASET, path), sep=' ', header=None) #misses some rows for some reason.\n",
    "    return data\n",
    "\n",
    "def get_statistics(data, true_label='I-Disease'):\n",
    "    num_train = len(data)\n",
    "    num_true = len(data.loc[data[3] == true_label])\n",
    "    perc = (float(num_true)/float(num_train)) * 100\n",
    "    #print 'Number of training samples: {}'.format(num_train)\n",
    "    print 'Percent of {}: {}%'.format(true_label, perc)"
   ]
  },
  {
   "cell_type": "code",
   "execution_count": 33,
   "metadata": {},
   "outputs": [],
   "source": [
    "for i in range(1, 6):\n",
    "    m2c = load_dataset('m2c', 'files{}'.format(i))\n",
    "    disease_labels = ['I-Disease', 'I-Disease_Pheno', 'I-Disease_Phen']\n",
    "    \n",
    "    mask = m2c[3].isin(disease_labels)\n",
    "    m2c.loc[mask, 3] = 'I-Disease'\n",
    "    \n",
    "    mask = m2c[3] == 'I-Phenotype'\n",
    "    m2c.loc[mask, 3] = 'O'\n",
    "    \n",
    "    m2c.to_csv(__get_path('m2c_citizen_disease', 'files{}'.format(i)), sep=' ', index=False, header=False)\n",
    "    \n",
    "    \n",
    "    m2c = load_dataset('m2c', 'files{}'.format(i))\n",
    "    \n",
    "    phenotype_labels = ['I-Phenotype', 'I-Disease_Pheno', 'I-Disease_Phen']\n",
    "    \n",
    "    mask = m2c[3].isin(phenotype_labels)\n",
    "    m2c.loc[mask, 3] = 'I-Phenotype'\n",
    "    \n",
    "    mask = m2c[3] == 'I-Disease'\n",
    "    m2c.loc[mask, 3] = 'O'\n",
    "    \n",
    "    m2c.to_csv(__get_path('m2c_citizen_phenotype', 'files{}'.format(i)), sep=' ', index=False, header=False)"
   ]
  }
 ],
 "metadata": {
  "kernelspec": {
   "display_name": "Python 2",
   "language": "python",
   "name": "python2"
  },
  "language_info": {
   "codemirror_mode": {
    "name": "ipython",
    "version": 2
   },
   "file_extension": ".py",
   "mimetype": "text/x-python",
   "name": "python",
   "nbconvert_exporter": "python",
   "pygments_lexer": "ipython2",
   "version": "2.7.15"
  }
 },
 "nbformat": 4,
 "nbformat_minor": 2
}
