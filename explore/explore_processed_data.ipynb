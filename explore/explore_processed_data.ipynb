{
 "cells": [
  {
   "cell_type": "code",
   "execution_count": 102,
   "metadata": {},
   "outputs": [],
   "source": [
    "import os\n",
    "import configparser\n",
    "\n",
    "import pandas as pd"
   ]
  },
  {
   "cell_type": "code",
   "execution_count": 172,
   "metadata": {},
   "outputs": [
    {
     "name": "stderr",
     "output_type": "stream",
     "text": [
      "/home/akshita/anaconda3/envs/scripps/lib/python2.7/site-packages/ipykernel_launcher.py:6: DeprecationWarning: You passed a bytestring as `filenames`. This will not work on Python 3. Use `cp.read_file()` or switch to using Unicode strings across the board.\n",
      "  \n"
     ]
    },
    {
     "data": {
      "text/plain": [
       "['../configurations/data.config']"
      ]
     },
     "execution_count": 172,
     "metadata": {},
     "output_type": "execute_result"
    }
   ],
   "source": [
    "#DATASET = '../../datasets'\n",
    "DATASET = '../dataset'\n",
    "CONFIGURATIONS = '../configurations'\n",
    "\n",
    "CF = configparser.ConfigParser()\n",
    "CF.read(os.path.join(CONFIGURATIONS, 'data.config'))"
   ]
  },
  {
   "cell_type": "code",
   "execution_count": 167,
   "metadata": {},
   "outputs": [],
   "source": [
    "def __load_path(path):\n",
    "    with open(path) as file_handle:\n",
    "        contents = file_handle.read()\n",
    "        lines = contents.split('\\n')\n",
    "        annos = []\n",
    "        for line in lines:\n",
    "            if line:\n",
    "                annos.append(line.split(' '))\n",
    "        data = pd.DataFrame(annos)\n",
    "    return data\n",
    "\n",
    "def load_dataset(dataset='disease', mode='train'):\n",
    "    assert dataset in ['disease', 'phenotype', 'm2c']\n",
    "    #assert mode in ['train', 'develop', 'test', 'files']\n",
    "    path = os.path.join(CF.get(dataset, 'path'), CF.get(dataset, mode))\n",
    "    data = __load_path(os.path.join(DATASET, path))\n",
    "    #data = pd.read_csv(os.path.join(DATASET, path), sep=' ', header=None) #misses some rows for some reason.\n",
    "    return data\n",
    "\n",
    "def get_statistics(data, true_label='I-Disease'):\n",
    "    num_train = len(data)\n",
    "    num_true = len(data.loc[data[3] == true_label])\n",
    "    perc = (float(num_true)/float(num_train)) * 100\n",
    "    #print 'Number of training samples: {}'.format(num_train)\n",
    "    print 'Percent of {}: {}%'.format(true_label, perc)"
   ]
  },
  {
   "cell_type": "code",
   "execution_count": 168,
   "metadata": {},
   "outputs": [
    {
     "name": "stdout",
     "output_type": "stream",
     "text": [
      "Number of training samples: 135900\n",
      "Percent of I-Disease: 8.2472406181%\n"
     ]
    }
   ],
   "source": [
    "disease_train = load_dataset('disease', 'train')\n",
    "print 'Number of training samples: {}'.format(len(disease_train))\n",
    "get_statistics(disease_train, 'I-Disease')"
   ]
  },
  {
   "cell_type": "code",
   "execution_count": 169,
   "metadata": {},
   "outputs": [
    {
     "name": "stdout",
     "output_type": "stream",
     "text": [
      "Number of training samples: 24796\n",
      "Percent of I-phenotype: 9.65478302952%\n"
     ]
    }
   ],
   "source": [
    "phenotype_train = load_dataset('phenotype', 'train')\n",
    "print 'Number of training samples: {}'.format(len(phenotype_train))\n",
    "get_statistics(phenotype_train, 'I-phenotype')"
   ]
  },
  {
   "cell_type": "code",
   "execution_count": 171,
   "metadata": {},
   "outputs": [
    {
     "name": "stdout",
     "output_type": "stream",
     "text": [
      "\n",
      "Number of training samples: 7863\n",
      "M2C annotator 1\n",
      "Percent of I-Phenotype: 1.83136207554%\n",
      "Percent of O: 72.1989062699%\n",
      "Percent of I-Disease: 6.58781635508%\n",
      "Percent of I-Disease_Pheno: 1.62787740048%\n",
      "Percent of I-?: 17.7413201068%\n",
      "Percent of I-Gene: 0.0127177921913%\n",
      "\n",
      "Number of training samples: 7863\n",
      "M2C annotator 2\n",
      "Percent of I-Phenotype: 2.81063207427%\n",
      "Percent of O: 68.4344397813%\n",
      "Percent of I-Disease: 7.17283479588%\n",
      "Percent of I-Disease_Phen: 0.775785323668%\n",
      "Percent of I-?: 20.8063080249%\n",
      "\n",
      "Number of training samples: 7863\n",
      "M2C annotator 3\n",
      "Percent of I-Disease_Pheno: 1.85679765993%\n",
      "Percent of O: 72.6567467888%\n",
      "Percent of I-Disease: 4.97265674679%\n",
      "Percent of I-Phenotype: 2.45453389292%\n",
      "Percent of I-?: 18.0592649116%\n",
      "\n",
      "Number of training samples: 7863\n",
      "M2C annotator 4\n",
      "Percent of I-Phenotype: 4.12056466997%\n",
      "Percent of O: 70.9271270507%\n",
      "Percent of I-Disease_Phen: 2.40366272415%\n",
      "Percent of I-Disease: 3.789902073%\n",
      "Percent of I-?: 18.7587434821%\n"
     ]
    }
   ],
   "source": [
    "for i in range(1, 5):\n",
    "    m2c = load_dataset('m2c', 'files{}'.format(i))\n",
    "    print '\\nNumber of training samples: {}'.format(len(m2c))\n",
    "    print 'M2C annotator {}'.format(i)\n",
    "    for label in m2c[3].unique():\n",
    "        get_statistics(m2c, label)"
   ]
  },
  {
   "cell_type": "code",
   "execution_count": null,
   "metadata": {},
   "outputs": [],
   "source": []
  }
 ],
 "metadata": {
  "kernelspec": {
   "display_name": "Python 2",
   "language": "python",
   "name": "python2"
  },
  "language_info": {
   "codemirror_mode": {
    "name": "ipython",
    "version": 2
   },
   "file_extension": ".py",
   "mimetype": "text/x-python",
   "name": "python",
   "nbconvert_exporter": "python",
   "pygments_lexer": "ipython2",
   "version": "2.7.15"
  }
 },
 "nbformat": 4,
 "nbformat_minor": 2
}
